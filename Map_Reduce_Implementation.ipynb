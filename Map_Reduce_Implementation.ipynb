{
 "cells": [
  {
   "cell_type": "markdown",
   "id": "2ab3793c",
   "metadata": {},
   "source": [
    "# Importing Libraries"
   ]
  },
  {
   "cell_type": "code",
   "execution_count": 240,
   "id": "8d4d1a45",
   "metadata": {},
   "outputs": [],
   "source": [
    "import pandas as pd"
   ]
  },
  {
   "cell_type": "markdown",
   "id": "0b5f44ae",
   "metadata": {},
   "source": [
    "# Defining Functions"
   ]
  },
  {
   "cell_type": "code",
   "execution_count": 241,
   "id": "0c103d5c",
   "metadata": {},
   "outputs": [],
   "source": [
    "def data_split(list_l):\n",
    "    n = len(list_l[0])\n",
    "    list1 = [list_l[0][:n//2],list_l[1][:n//2]]\n",
    "    list2 = [list_l[0][n//2:],list_l[1][n//2:]] \n",
    "    #split input list into 2 halves list1 and list2\n",
    "    return list1,list2"
   ]
  },
  {
   "cell_type": "code",
   "execution_count": 242,
   "id": "59ac4f2d",
   "metadata": {},
   "outputs": [],
   "source": [
    "def data_clean(txt):\n",
    "    temp_l = [] #creating a temporary list\n",
    "    for i in range(len(txt)):\n",
    "        temp_l.append(txt[i].replace(\" \",\"\").split(\",\"))  #removing spaces and splitting by ',' and adding to temporary list\n",
    "\n",
    "    year_list = []    #list to store all year values (2 from each line)\n",
    "    temp_list = []     #list to store all temp values  (2 from each line)\n",
    "\n",
    "    for i in range(len(temp_l)):\n",
    "        #print(temp_l[i])          - each line has 2 Year values and 2 temp values \n",
    "        #print(temp_l[i][0][1:5])  - Year1\n",
    "        #print(temp_l[i][1][:-1])  - Temp1\n",
    "        #print(temp_l[i][2][1:5])  - Year2\n",
    "        #print(temp_l[i][3][:-2])  - Temp2\n",
    "        \n",
    "        year_list.append([temp_l[i][0][1:5],temp_l[i][2][1:5]]) \n",
    "        temp_list.append([temp_l[i][1][:-1],temp_l[i][1][:-1]])\n",
    "    \n",
    "    year_temp_list = [year_list,temp_list] # a list with 1st element as year_list and 2nd as temp_list\n",
    "    return year_temp_list"
   ]
  },
  {
   "cell_type": "code",
   "execution_count": 243,
   "id": "d3059eeb",
   "metadata": {},
   "outputs": [],
   "source": [
    "def mapper(year_temp_list):\n",
    "    pair = [] #list to pair year and corresponding temp values\n",
    "    for i in range(len(year_temp_list[0])):\n",
    "        pair.append([year_temp_list[0][i][0], year_temp_list[1][i][0]]) #adding year-temp pair to paired list\n",
    "        pair.append([year_temp_list[0][i][1], year_temp_list[1][i][1]]) #2nd year-temp pair, since 1 line has 2 pairs\n",
    "    return pair"
   ]
  },
  {
   "cell_type": "code",
   "execution_count": 244,
   "id": "d345b2fd",
   "metadata": {},
   "outputs": [],
   "source": [
    "def reducer(pair_list):\n",
    "    max_pair = [] #list to store year and max temperature\n",
    "    max = 0\n",
    "    year = pair_list[0][0] #take the first year value since it's sorted\n",
    "\n",
    "    for i in pair_list:\n",
    "        if i[0] == year:\n",
    "            if int(i[1])>=max:\n",
    "                max = int(i[1])  #if for the same year temp value is higher, 'max' is updated\n",
    "            continue\n",
    "        max_pair.append([year,max]) #append to list after getting max temp value for the previous year\n",
    "        year = i[0] #update value of year to current Year\n",
    "        max = int(i[1]) #update corresponding value of max temp for the current year\n",
    "        \n",
    "    max_pair.append([year,max]) #final year-temp pair is appended to list\n",
    "\n",
    "    return max_pair #return list with pair of Year and it's maximum temperarure"
   ]
  },
  {
   "cell_type": "code",
   "execution_count": 245,
   "id": "45691fde",
   "metadata": {},
   "outputs": [],
   "source": [
    "def merge_sort(list1,list2):\n",
    "    list1.extend(list2) #extend list1 with elements from list2 \n",
    "    list1.sort() #sort combined list\n",
    "    return list1 #return sorted list"
   ]
  },
  {
   "cell_type": "code",
   "execution_count": 246,
   "id": "882ec7bf",
   "metadata": {},
   "outputs": [],
   "source": [
    "def partition(merged_list):\n",
    "    first_half = [] #list to store pairs where year<=2015\n",
    "    second_half = [] #list to store pairs for years>2015\n",
    "    for i in merged_list:\n",
    "        if int(i[0])<2016:\n",
    "            first_half.append(i) #year <= 2015\n",
    "        else:\n",
    "            second_half.append(i) #year >= 2016\n",
    "    \n",
    "    return first_half, second_half #return both halves"
   ]
  },
  {
   "cell_type": "code",
   "execution_count": 247,
   "id": "a953ad53",
   "metadata": {},
   "outputs": [],
   "source": [
    "#The Main function which invokes other functions\n",
    "def get_max_temp(txt):\n",
    "    \n",
    "    split1,split2 = data_split(data_clean(txt)) #get 2 splits of cleaned data\n",
    "\n",
    "    map1 = mapper(split1) \n",
    "    map2 = mapper(split2)  #generate key value pair for both splits of data\n",
    "\n",
    "    sorted_list = merge_sort(map1,map2)\n",
    "    hf1,hf2 = partition(sorted_list)  #sorting the key value pairs and partitioning based of \"Year<=2015\"\n",
    "\n",
    "    hf1_max = reducer(hf1) #reducer output of first half (year <= 2015)\n",
    "    hf2_max = reducer(hf2) #reducer output of second half (year>2015)\n",
    "\n",
    "    hf1_max.extend(hf2_max) #extending first half with second half, so after this hf1 will contain all reduced pairs\n",
    "\n",
    "    df = pd.DataFrame({\"Year\":[i[0] for i in hf1_max],\n",
    "                       \"Max_Temp\":[i[1] for i in hf1_max]}) #creating dataframe with year and it's max temp\n",
    "    df.to_csv('output.csv',index=False) #writting DF to CSV file"
   ]
  },
  {
   "cell_type": "markdown",
   "id": "77d232fd",
   "metadata": {},
   "source": [
    "# Reading File and Calling Main Function"
   ]
  },
  {
   "cell_type": "code",
   "execution_count": 248,
   "id": "7df92af1",
   "metadata": {},
   "outputs": [],
   "source": [
    "input_path = 'C:/Users/rshara4/Downloads/temperatures.txt'\n",
    "ifile = open(input_path,'r')\n",
    "txt = ifile.readlines()\n",
    "get_max_temp(txt)"
   ]
  }
 ],
 "metadata": {
  "kernelspec": {
   "display_name": "Python 3 (ipykernel)",
   "language": "python",
   "name": "python3"
  },
  "language_info": {
   "codemirror_mode": {
    "name": "ipython",
    "version": 3
   },
   "file_extension": ".py",
   "mimetype": "text/x-python",
   "name": "python",
   "nbconvert_exporter": "python",
   "pygments_lexer": "ipython3",
   "version": "3.9.7"
  }
 },
 "nbformat": 4,
 "nbformat_minor": 5
}
