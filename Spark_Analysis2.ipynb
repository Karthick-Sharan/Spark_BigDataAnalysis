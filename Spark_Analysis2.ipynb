{
 "cells": [
  {
   "cell_type": "code",
   "execution_count": 1,
   "metadata": {
    "colab": {
     "base_uri": "https://localhost:8080/"
    },
    "id": "7Lzel2RyGLR8",
    "outputId": "4901fd4d-8b89-4e39-c7f2-267a7ef233a6"
   },
   "outputs": [
    {
     "name": "stdout",
     "output_type": "stream",
     "text": [
      "Mounted at /content/drive\n"
     ]
    }
   ],
   "source": [
    "from google.colab import drive\n",
    "drive.mount('/content/drive')"
   ]
  },
  {
   "cell_type": "code",
   "execution_count": 2,
   "metadata": {
    "colab": {
     "base_uri": "https://localhost:8080/"
    },
    "id": "eBh32H1KGN6N",
    "outputId": "b1cd48b8-4898-417a-aae1-9ac89c01b72e"
   },
   "outputs": [
    {
     "name": "stdout",
     "output_type": "stream",
     "text": [
      "/content/drive/MyDrive/Spark\n"
     ]
    }
   ],
   "source": [
    "%cd /content/drive/MyDrive/Spark"
   ]
  },
  {
   "cell_type": "code",
   "execution_count": 3,
   "metadata": {
    "id": "5mu6pVnZGQG9"
   },
   "outputs": [],
   "source": [
    "!apt-get install openjdk-8-jdk-headless -qq > /dev/null"
   ]
  },
  {
   "cell_type": "code",
   "execution_count": 4,
   "metadata": {
    "id": "-ctrU5N3IGbn"
   },
   "outputs": [],
   "source": [
    "!wget -q https://archive.apache.org/dist/spark/spark-3.0.0/spark-3.0.0-bin-hadoop3.2.tgz"
   ]
  },
  {
   "cell_type": "code",
   "execution_count": 5,
   "metadata": {
    "id": "pJ9_wmyLQ6JU"
   },
   "outputs": [],
   "source": [
    "!tar xf spark-3.0.0-bin-hadoop3.2.tgz"
   ]
  },
  {
   "cell_type": "code",
   "execution_count": 6,
   "metadata": {
    "colab": {
     "base_uri": "https://localhost:8080/"
    },
    "id": "VzPfsiRAQ7pc",
    "outputId": "b38253d1-5366-4ba9-821f-5519fe26f6cd"
   },
   "outputs": [
    {
     "name": "stdout",
     "output_type": "stream",
     "text": [
      "Looking in indexes: https://pypi.org/simple, https://us-python.pkg.dev/colab-wheels/public/simple/\n",
      "Collecting findspark\n",
      "  Downloading findspark-2.0.1-py2.py3-none-any.whl (4.4 kB)\n",
      "Installing collected packages: findspark\n",
      "Successfully installed findspark-2.0.1\n"
     ]
    }
   ],
   "source": [
    "!pip install findspark"
   ]
  },
  {
   "cell_type": "code",
   "execution_count": 7,
   "metadata": {
    "id": "4YDsKkPmRV7e"
   },
   "outputs": [],
   "source": [
    "import os\n",
    "os.environ[\"JAVA_HOME\"] = \"/usr/lib/jvm/java-8-openjdk-amd64\"\n",
    "os.environ[\"SPARK_HOME\"] = \"/content/drive/MyDrive/Spark/spark-3.0.0-bin-hadoop3.2\""
   ]
  },
  {
   "cell_type": "code",
   "execution_count": 8,
   "metadata": {
    "id": "-FE5LxjgRaIq"
   },
   "outputs": [],
   "source": [
    "import findspark\n",
    "findspark.init()"
   ]
  },
  {
   "cell_type": "code",
   "execution_count": 9,
   "metadata": {
    "id": "vDPDlCElUQtK"
   },
   "outputs": [],
   "source": [
    "from pyspark.sql import *\n",
    "\n",
    "spark = SparkSession.builder.getOrCreate()\n",
    "#from pyspark.sql.functions import trim, to_date, year, month"
   ]
  },
  {
   "cell_type": "code",
   "execution_count": 10,
   "metadata": {
    "id": "ranug0OYRb1E"
   },
   "outputs": [],
   "source": [
    "from pyspark import SparkContext\n",
    "\n",
    "sc=SparkContext.getOrCreate()"
   ]
  },
  {
   "cell_type": "code",
   "execution_count": 11,
   "metadata": {
    "id": "I95vMb1URr3h"
   },
   "outputs": [],
   "source": [
    "spark = SparkSession.builder \\\n",
    "    .master(\"local\") \\\n",
    "    .appName(\"Word Count\") \\\n",
    "    .config(\"spark.some.config.option\", \"some-value\") \\\n",
    "    .getOrCreate()"
   ]
  },
  {
   "cell_type": "code",
   "execution_count": 12,
   "metadata": {
    "id": "MaKjbj11QKxv"
   },
   "outputs": [],
   "source": [
    "# Reading the Amazon Responds file via spark\n",
    "df=spark.read.format(\"csv\").option(\"multiLine\", True).option(\"header\", True).option(\"escape\", \"\\\"\").load(\"Amazon_Responded_Oct05.csv\") "
   ]
  },
  {
   "cell_type": "code",
   "execution_count": 14,
   "metadata": {
    "colab": {
     "base_uri": "https://localhost:8080/"
    },
    "id": "ScoEdA7kRZlq",
    "outputId": "82cc1d15-5cdb-4253-cd68-290c260d3869"
   },
   "outputs": [
    {
     "name": "stdout",
     "output_type": "stream",
     "text": [
      "+--------------------+--------------------+----------------+-----------+-------------------+---------------------+--------------+-----------------+--------------+--------------------+-------------+-------------+--------------------+------------------+--------------------+--------------+--------------------+--------------+---------+-----------------------+-------------------------+-----------------------+-------------+---------+--------------------+\n",
      "|              id_str|    tweet_created_at|user_screen_name|user_id_str|user_statuses_count|user_favourites_count|user_protected|user_listed_count|user_following|    user_description|user_location|user_verified|user_followers_count|user_friends_count|     user_created_at|tweet_language|               text_|favorite_count|favorited|in_reply_to_screen_name|in_reply_to_status_id_str|in_reply_to_user_id_str|retweet_count|retweeted|               text\r",
      "|\n",
      "+--------------------+--------------------+----------------+-----------+-------------------+---------------------+--------------+-----------------+--------------+--------------------+-------------+-------------+--------------------+------------------+--------------------+--------------+--------------------+--------------+---------+-----------------------+-------------------------+-----------------------+-------------+---------+--------------------+\n",
      "|                   \r",
      "|                null|            null|       null|               null|                 null|          null|             null|          null|                null|         null|         null|                null|              null|                null|          null|                null|          null|     null|                   null|                     null|                   null|         null|     null|                null|\n",
      "|'793270689780203520'|Tue Nov 01 01:57:...|     SeanEPanjab|  143515471|              51287|                 4079|         False|               74|         False|Content marketer;...|   غریب الوطن|        False|                1503|               850|Thu May 13 17:43:...|            en|@AmazonHelp Can y...|             0|    False|             AmazonHelp|                     null|               85741735|            0|    False|                   \r",
      "|\n",
      "|'793281386912354304'|Tue Nov 01 02:39:...|      AmazonHelp|   85741735|            2225450|                11366|         False|              796|         False|We answer Amazon ...|         null|         True|              149569|                53|Wed Oct 28 04:17:...|            en|@SeanEPanjab I'm ...|             0|    False|            SeanEPanjab|     7.932706897802035...|              143515471|            0|    False|                   \r",
      "|\n",
      "|'793501578766319616'|Tue Nov 01 17:14:...|     SeanEPanjab|  143515471|              51287|                 4079|         False|               74|         False|Content marketer;...|   غریب الوطن|        False|                1503|               850|Thu May 13 17:43:...|            en|@AmazonHelp It wa...|             0|    False|             AmazonHelp|     7.932813869123543...|               85741735|            0|    False|@AmazonHelp It wa...|\n",
      "|'793501657346682880'|Tue Nov 01 17:15:...|     SeanEPanjab|  143515471|              51287|                 4079|         False|               74|         False|Content marketer;...|   غریب الوطن|        False|                1503|               850|Thu May 13 17:43:...|            en|@AmazonHelp I am ...|             0|    False|             AmazonHelp|     7.932813869123543...|               85741735|            0|    False|                   \r",
      "|\n",
      "|'793502854459879424'|Tue Nov 01 17:19:...|      AmazonHelp|   85741735|            2225450|                11366|         False|              796|         False|We answer Amazon ...|         null|         True|              149569|                53|Wed Oct 28 04:17:...|            en|@SeanEPanjab Plea...|             0|    False|            SeanEPanjab|     7.935015787663196...|              143515471|            0|    False|@SeanEPanjab Plea...|\n",
      "|'793504235400884224'|Tue Nov 01 17:25:...|      AmazonHelp|   85741735|            2225450|                11366|         False|              796|         False|We answer Amazon ...|         null|         True|              149569|                53|Wed Oct 28 04:17:...|            en|@SeanEPanjab With...|             0|    False|            SeanEPanjab|     7.935016573466829...|              143515471|            0|    False|                   \r",
      "|\n",
      "|'793511847899070465'|Tue Nov 01 17:55:...|     SeanEPanjab|  143515471|              51287|                 4079|         False|               74|         False|Content marketer;...|   غریب الوطن|        False|                1503|               850|Thu May 13 17:43:...|            en|@AmazonHelp It wa...|             0|    False|             AmazonHelp|     7.935042354008842...|               85741735|            0|    False|                   \r",
      "|\n",
      "|'793511899279208449'|Tue Nov 01 17:55:...|     SeanEPanjab|  143515471|              51287|                 4079|         False|               74|         False|Content marketer;...|   غریب الوطن|        False|                1503|               850|Thu May 13 17:43:...|            en|@AmazonHelp if it...|             0|    False|             AmazonHelp|     7.935042354008842...|               85741735|            0|    False|                   \r",
      "|\n",
      "|'793513446633533440'|Tue Nov 01 18:02:...|      AmazonHelp|   85741735|            2225450|                11366|         False|              796|         False|We answer Amazon ...|         null|         True|              149569|                53|Wed Oct 28 04:17:...|            en|@SeanEPanjab I'm ...|             0|    False|            SeanEPanjab|     7.935118992792084...|              143515471|            0|    False|@SeanEPanjab I'm ...|\n",
      "|                   \r",
      "|                null|            null|       null|               null|                 null|          null|             null|          null|                null|         null|         null|                null|              null|                null|          null|                null|          null|     null|                   null|                     null|                   null|         null|     null|                null|\n",
      "|'793299404975247360'|Tue Nov 01 03:51:...|   aakashwangnoo|   71457972|                592|                  471|         False|               11|         False|Don't try to be G...|    New Delhi|        False|                 234|                57|Fri Sep 04 04:55:...|            en|@JeffBezos @amazo...|             0|    False|              JeffBezos|                     null|               15506669|            0|    False|                   \r",
      "|\n",
      "|'793301295255945216'|Tue Nov 01 03:59:...|      AmazonHelp|   85741735|            2225442|                11366|         False|              796|         False|We answer Amazon ...|         null|         True|              149568|                53|Wed Oct 28 04:17:...|            en|@aakashwangnoo Hi...|             0|    False|          aakashwangnoo|     7.932994049752474...|               71457972|            0|    False|                   \r",
      "|\n",
      "|'793407430344310785'|Tue Nov 01 11:00:...|   aakashwangnoo|   71457972|                592|                  471|         False|               11|         False|Don't try to be G...|    New Delhi|        False|                 234|                57|Fri Sep 04 04:55:...|            en|@AmazonHelp How m...|             0|    False|             AmazonHelp|     7.933012952559452...|               85741735|            0|    False|                   \r",
      "|\n",
      "|'793423313674571776'|Tue Nov 01 12:03:...|      AmazonHelp|   85741735|            2225442|                11366|         False|              796|         False|We answer Amazon ...|         null|         True|              149568|                53|Wed Oct 28 04:17:...|            en|@aakashwangnoo Hi...|             0|    False|          aakashwangnoo|     7.934074303443108...|               71457972|            0|    False|@aakashwangnoo Hi...|\n",
      "|'793423314333134850'|Tue Nov 01 12:03:...|      AmazonHelp|   85741735|            2225442|                11366|         False|              796|         False|We answer Amazon ...|         null|         True|              149568|                53|Wed Oct 28 04:17:...|            en|@aakashwangnoo Pl...|             0|    False|          aakashwangnoo|     7.934074303443108...|               71457972|            0|    False|                   \r",
      "|\n",
      "|'793467086869630977'|Tue Nov 01 14:57:...|   aakashwangnoo|   71457972|                592|                  471|         False|               11|         False|Don't try to be G...|    New Delhi|        False|                 234|                57|Fri Sep 04 04:55:...|            en|@AmazonHelp @amaz...|             0|    False|             AmazonHelp|     7.934233143331348...|               85741735|            0|    False|                   \r",
      "|\n",
      "|'793492430666498050'|Tue Nov 01 16:38:...|      AmazonHelp|   85741735|            2225442|                11366|         False|              796|         False|We answer Amazon ...|         null|         True|              149568|                53|Wed Oct 28 04:17:...|            en|@aakashwangnoo Hi...|             0|    False|          aakashwangnoo|     7.93467086869631e+17|               71457972|            0|    False|@aakashwangnoo Hi...|\n",
      "|'793535036213501952'|Tue Nov 01 19:27:...|   aakashwangnoo|   71457972|                592|                  471|         False|               11|         False|Don't try to be G...|    New Delhi|        False|                 234|                57|Fri Sep 04 04:55:...|            en|@AmazonHelp @amaz...|             0|    False|             AmazonHelp|     7.93492430666498e+17|               85741735|            0|    False|                   \r",
      "|\n",
      "|'793535221329113088'|Tue Nov 01 19:28:...|   aakashwangnoo|   71457972|                592|                  471|         False|               11|         False|Don't try to be G...|    New Delhi|        False|                 234|                57|Fri Sep 04 04:55:...|            en|@AmazonHelp @amaz...|             0|    False|          aakashwangnoo|     7.93535036213502e+17|               71457972|            0|    False|                   \r",
      "|\n",
      "+--------------------+--------------------+----------------+-----------+-------------------+---------------------+--------------+-----------------+--------------+--------------------+-------------+-------------+--------------------+------------------+--------------------+--------------+--------------------+--------------+---------+-----------------------+-------------------------+-----------------------+-------------+---------+--------------------+\n",
      "only showing top 20 rows\n",
      "\n"
     ]
    }
   ],
   "source": [
    "df.show() #displaying top 20 rows"
   ]
  },
  {
   "cell_type": "code",
   "execution_count": 15,
   "metadata": {
    "colab": {
     "base_uri": "https://localhost:8080/"
    },
    "id": "EGjhXloiQK-9",
    "outputId": "56db7799-de4e-4167-8951-1de75ed20f5b"
   },
   "outputs": [
    {
     "name": "stdout",
     "output_type": "stream",
     "text": [
      "Total number of records:\n"
     ]
    },
    {
     "data": {
      "text/plain": [
       "462030"
      ]
     },
     "execution_count": 15,
     "metadata": {},
     "output_type": "execute_result"
    }
   ],
   "source": [
    "# Checking count of dataframe\n",
    "print(\"Total number of records:\")\n",
    "df.count()"
   ]
  },
  {
   "cell_type": "code",
   "execution_count": 16,
   "metadata": {
    "id": "EBWH9re2QLA_"
   },
   "outputs": [],
   "source": [
    "##############################################################################################################\n",
    "# CLEANING & PREPARING DATAFRAME\n",
    "##############################################################################################################\n",
    "\n",
    "# Removing duplicates if present\n",
    "df=df.dropDuplicates()"
   ]
  },
  {
   "cell_type": "code",
   "execution_count": 17,
   "metadata": {
    "colab": {
     "base_uri": "https://localhost:8080/"
    },
    "id": "3vIJonwUQLDK",
    "outputId": "ebb76e97-6969-40e7-c0ad-2e45c95e6dd3"
   },
   "outputs": [
    {
     "name": "stdout",
     "output_type": "stream",
     "text": [
      "+--------------------+--------------------+----------------+-----------+-------------------+---------------------+--------------+-----------------+--------------+--------------------+--------------------+-------------+--------------------+------------------+--------------------+--------------+--------------------+--------------+---------+-----------------------+-------------------------+-----------------------+-------------+---------+--------------------+\n",
      "|              id_str|    tweet_created_at|user_screen_name|user_id_str|user_statuses_count|user_favourites_count|user_protected|user_listed_count|user_following|    user_description|       user_location|user_verified|user_followers_count|user_friends_count|     user_created_at|tweet_language|               text_|favorite_count|favorited|in_reply_to_screen_name|in_reply_to_status_id_str|in_reply_to_user_id_str|retweet_count|retweeted|               text\r",
      "|\n",
      "+--------------------+--------------------+----------------+-----------+-------------------+---------------------+--------------+-----------------+--------------+--------------------+--------------------+-------------+--------------------+------------------+--------------------+--------------+--------------------+--------------+---------+-----------------------+-------------------------+-----------------------+-------------+---------+--------------------+\n",
      "|'793508743136837632'|Tue Nov 01 17:43:...|     xD4ni3ll38x|  315105182|               7782|                 2815|         False|                6|         False|Determination, de...|                null|        False|                 369|                83|Sat Jun 11 09:27:...|            en|@AmazonHelp I hav...|             0|    False|             AmazonHelp|                     null|               85741735|            0|    False|                   \r",
      "|\n",
      "|'793520773440933889'|Tue Nov 01 18:31:...| robertcaldecott|  175322072|               2064|                 1270|         False|               12|         False|Techie, Radiohead...|           Calne, UK|        False|                  97|               138|Fri Aug 06 08:17:...|            en|@AmazonMusicUK Th...|             0|    False|          AmazonMusicUK|                     null|               28377083|            0|    False|                   \r",
      "|\n",
      "|'793709552013287424'|Wed Nov 02 07:01:...|      comper1983| 4755678875|               1138|                  647|         False|               18|         False|My name's Laura. ...|    Bristol, England|        False|                 972|              4011|Sat Jan 09 15:49:...|            en|@amazon @AmazonKD...|             0|    False|             comper1983|     7.935683864458977...|             4755678875|            0|    False|                   \r",
      "|\n",
      "|'793746193562079233'|Wed Nov 02 09:26:...|      AmazonHelp|   85741735|            2225510|                11367|         False|              793|         False|We answer Amazon ...|                null|         True|              149569|                53|Wed Oct 28 04:17:...|            en|@Gurpur Hello! So...|             0|    False|                 Gurpur|     7.936986641578107...|               65332022|            0|    False|                   \r",
      "|\n",
      "|'793718818090520576'|Wed Nov 02 07:38:...|         Afitron| 2347212330|               2041|                 1260|         False|                0|         False|                null|                null|        False|                  12|                20|Sun Feb 16 17:52:...|            en|@amazonIN why is ...|             0|    False|               amazonIN|                     null|             1282946089|            0|    False|                   \r",
      "|\n",
      "|'794026936309846017'|Thu Nov 03 04:02:...|      AmazonHelp|   85741735|            2225510|                11367|         False|              793|         False|We answer Amazon ...|                null|         True|              149569|                53|Wed Oct 28 04:17:...|            en|@SteveYanko1 You ...|             0|    False|            SteveYanko1|     7.940264276119183...|             2228056004|            0|    False|@SteveYanko1 You ...|\n",
      "|'793785470912196608'|Wed Nov 02 12:02:...|   thanki_dhaval|  485556712|                 62|                   28|         False|                0|         False|      Civil Engineer|   Jamnagar, Gujarat|        False|                  97|               196|Tue Feb 07 10:07:...|            en|@AmazonHelp yes I...|             0|    False|             AmazonHelp|     7.937828436841185...|               85741735|            0|    False|                   \r",
      "|\n",
      "|'793815300621869056'|Wed Nov 02 14:01:...|      AmazonHelp|   85741735|            2225496|                11366|         False|              792|         False|We answer Amazon ...|                null|         True|              149570|                53|Wed Oct 28 04:17:...|            en|@AbhinavCJ Please...|             0|    False|              AbhinavCJ|     7.938121666420122...|               84115838|            0|    False|                   \r",
      "|\n",
      "|'794161791039221760'|Thu Nov 03 12:58:...|          JayTMr| 1255519657|               1379|                35854|         False|                3|         False|There are two thi...|                null|        False|                  94|               161|Sat Mar 09 22:21:...|            en|@AmazonHelp are y...|             0|    False|             AmazonHelp|     7.941580599752458...|               85741735|            0|    False|                   \r",
      "|\n",
      "|'793898222255243264'|Wed Nov 02 19:31:...|      AmazonHelp|   85741735|            2225466|                11366|         False|              798|         False|We answer Amazon ...|                null|         True|              149572|                53|Wed Oct 28 04:17:...|            en|@Tower_Tramp We'd...|             0|    False|            Tower_Tramp|     7.938950856917197...|           2467103148.0|            0|    False|@Tower_Tramp We'd...|\n",
      "|'794246387550617600'|Thu Nov 03 18:34:...|        RUSSON82|  143616096|               3544|                 1541|         False|                6|         False|                avfc|ÜT: 52.4777483,-1...|        False|                 233|              1184|Thu May 13 23:41:...|            en|@AmazonHelp I've ...|             0|    False|             AmazonHelp|     7.942461472127672...|               85741735|            0|    False|                   \r",
      "|\n",
      "|'793961891416641540'|Wed Nov 02 23:44:...|      AmazonHelp|   85741735|            2225452|                11366|         False|              796|         False|We answer Amazon ...|                null|         True|              149569|                53|Wed Oct 28 04:17:...|            en|@MacElectric33 Pl...|             0|    False|          MacElectric33|     7.939604026149724...|              413233775|            0|    False|@MacElectric33 Pl...|\n",
      "|'793946121332723712'|Wed Nov 02 22:41:...|    JoSimmons789|  121513127|                185|                   19|         False|                0|         False|                null|                  UK|        False|                  43|                94|Tue Mar 09 18:48:...|            en|@AmazonHelp it's ...|             0|    False|             AmazonHelp|     7.939455342015611...|               85741735|            0|    False|                   \r",
      "|\n",
      "|'794140745632546816'|Thu Nov 03 11:34:...|      AmazonHelp|   85741735|            2225577|                11368|         False|              791|         False|We answer Amazon ...|                null|         True|              149580|                53|Wed Oct 28 04:17:...|            en|@obicol Sorry abo...|             0|    False|                 obicol|     7.941381845485445...|            283168534.0|            0|    False|                   \r",
      "|\n",
      "|'794296571164823556'|Thu Nov 03 21:53:...|    ItwitchSmith| 2573219121|                264|                  839|         False|                0|         False|       Kill them all|      United Kingdom|        False|                  26|                57|Sat May 31 02:56:...|            en|@AmazonHelp I hav...|             0|    False|             AmazonHelp|     7.942944598360678...|               85741735|            0|    False|                   \r",
      "|\n",
      "|'794326728911048714'|Thu Nov 03 23:53:...|  MaxwellKellner|  470228513|               3923|                 1708|         False|               53|         False|Tweets about Mark...|       Baltimore, MD|        False|                 333|               469|Sat Jan 21 13:22:...|            en|@AmazonHelp from ...|             0|    False|             AmazonHelp|     7.943259151195341...|               85741735|            0|    False|                   \r",
      "|\n",
      "|'794744799647645697'|Sat Nov 05 03:35:...|      AmazonHelp|   85741735|            2225607|                11368|         False|              794|         False|We answer Amazon ...|                null|         True|              149583|                53|Wed Oct 28 04:17:...|            en|@PhysRito Hey, yo...|             1|    False|               PhysRito|     7.945741449900524...|     727790783437246465|            0|    False|                   \r",
      "|\n",
      "|'794683154560929792'|Fri Nov 04 23:30:...|      AmazonHelp|   85741735|            2225523|                11367|         False|              794|         False|We answer Amazon ...|                null|         True|              149574|                53|Wed Oct 28 04:17:...|            en|@priyankashaurya ...|             0|    False|        priyankashaurya|     7.945557723864269...|           2171653297.0|            0|    False|@priyankashaurya ...|\n",
      "|'794734734551240704'|Sat Nov 05 02:55:...|      AmazonHelp|   85741735|            2225609|                11368|         False|              794|         False|We answer Amazon ...|                null|         True|              149583|                53|Wed Oct 28 04:17:...|            en|@lahsivarhor Hell...|             0|    False|            lahsivarhor|     7.945684389455626...|               86762070|            0|    False|                   \r",
      "|\n",
      "|'794644989359882240'|Fri Nov 04 20:58:...|  TommyToast1983| 2986338112|               6464|                 8798|         False|                9|         False|It ain't about ho...|    Bristol, England|        False|                 242|               437|Mon Jan 19 20:18:...|            en|Aaaaaargh bloody ...|             0|    False|                   null|                     null|                   null|            0|    False|                   \r",
      "|\n",
      "+--------------------+--------------------+----------------+-----------+-------------------+---------------------+--------------+-----------------+--------------+--------------------+--------------------+-------------+--------------------+------------------+--------------------+--------------+--------------------+--------------+---------+-----------------------+-------------------------+-----------------------+-------------+---------+--------------------+\n",
      "only showing top 20 rows\n",
      "\n"
     ]
    }
   ],
   "source": [
    "# Removing rows with all fields empty\n",
    "df = df.dropna(how='all', thresh=2) # Since blank space in 'text' col is not being considered as NA, we'll use thresh argument\n",
    "df.show()"
   ]
  },
  {
   "cell_type": "code",
   "execution_count": 19,
   "metadata": {
    "colab": {
     "base_uri": "https://localhost:8080/"
    },
    "id": "Z_h9uzp1QLFV",
    "outputId": "176955cd-2f8f-4978-f3f2-9afc2aafbf55"
   },
   "outputs": [
    {
     "name": "stdout",
     "output_type": "stream",
     "text": [
      "Row count after removing empty rows: \n"
     ]
    },
    {
     "data": {
      "text/plain": [
       "378134"
      ]
     },
     "execution_count": 19,
     "metadata": {},
     "output_type": "execute_result"
    }
   ],
   "source": [
    "# Checking row count after removing empty row ('with all fiels missing')\n",
    "print(\"Row count after removing empty rows: \")\n",
    "df.count()"
   ]
  },
  {
   "cell_type": "code",
   "execution_count": 22,
   "metadata": {
    "colab": {
     "base_uri": "https://localhost:8080/"
    },
    "id": "20bVd2WPQLHt",
    "outputId": "680e92e4-1c79-4537-bd1b-ae1cc5618391"
   },
   "outputs": [
    {
     "name": "stdout",
     "output_type": "stream",
     "text": [
      "+------------------------------+----------------+-----------+\n",
      "|tweet_created_at              |user_screen_name|user_id_str|\n",
      "+------------------------------+----------------+-----------+\n",
      "|Tue Nov 01 17:43:21 +0000 2016|xD4ni3ll38x     |315105182  |\n",
      "|Tue Nov 01 18:31:09 +0000 2016|robertcaldecott |175322072  |\n",
      "|Wed Nov 02 07:01:18 +0000 2016|comper1983      |4755678875 |\n",
      "|Wed Nov 02 09:26:54 +0000 2016|AmazonHelp      |85741735   |\n",
      "|Wed Nov 02 07:38:07 +0000 2016|Afitron         |2347212330 |\n",
      "+------------------------------+----------------+-----------+\n",
      "only showing top 5 rows\n",
      "\n"
     ]
    }
   ],
   "source": [
    "# Selecting the 3 columns we will be using : tweet_created_at, user_screen_name, user_id_str \n",
    "\n",
    "from pyspark.sql.functions import *\n",
    "\n",
    "df=df.select(col(\"tweet_created_at\"),col(\"user_screen_name\"),col(\"user_id_str\"))\n",
    "df.show(5,False) #displaying top 5 rows"
   ]
  },
  {
   "cell_type": "code",
   "execution_count": 29,
   "metadata": {
    "id": "YgzRd0rRQLJj"
   },
   "outputs": [],
   "source": [
    "##########################################################################################################\n",
    "# STEP 1 : Finding Users active on at least 5 days\n",
    "##########################################################################################################\n",
    "\n",
    "# Creating new column where we're storing extracted date from 'tweet_created_at'\n",
    "\n",
    "from pyspark.sql.functions import substring\n",
    "df=df.withColumn(\"Day_active\", substring(col(\"tweet_created_at\"),4,7))"
   ]
  },
  {
   "cell_type": "code",
   "execution_count": 30,
   "metadata": {
    "colab": {
     "base_uri": "https://localhost:8080/"
    },
    "id": "my926vXsQLLg",
    "outputId": "bcf5fab0-f348-4eea-fbb4-efd1ad60ad8b"
   },
   "outputs": [
    {
     "name": "stdout",
     "output_type": "stream",
     "text": [
      "+--------------------+----------------+-----------+----------+\n",
      "|    tweet_created_at|user_screen_name|user_id_str|Day_active|\n",
      "+--------------------+----------------+-----------+----------+\n",
      "|Tue Nov 01 17:43:...|     xD4ni3ll38x|  315105182|    Nov 01|\n",
      "|Tue Nov 01 18:31:...| robertcaldecott|  175322072|    Nov 01|\n",
      "|Wed Nov 02 07:01:...|      comper1983| 4755678875|    Nov 02|\n",
      "|Wed Nov 02 09:26:...|      AmazonHelp|   85741735|    Nov 02|\n",
      "|Wed Nov 02 07:38:...|         Afitron| 2347212330|    Nov 02|\n",
      "+--------------------+----------------+-----------+----------+\n",
      "only showing top 5 rows\n",
      "\n"
     ]
    }
   ],
   "source": [
    "df.show(5)"
   ]
  },
  {
   "cell_type": "code",
   "execution_count": 35,
   "metadata": {
    "colab": {
     "base_uri": "https://localhost:8080/"
    },
    "id": "KTk8v8ONQLNr",
    "outputId": "0a7272ff-9dd7-4bce-9458-0ccc49407771"
   },
   "outputs": [
    {
     "name": "stdout",
     "output_type": "stream",
     "text": [
      "Count of Users active on more than 5 days:  593\n",
      "\n",
      "Displaying the top 5 rows of active user table: \n",
      "+----------------+-----------+\n",
      "|user_screen_name|user_id_str|\n",
      "+----------------+-----------+\n",
      "|   Gentlemen_Sam|  441572163|\n",
      "|          MtnrMS| 3309102108|\n",
      "|  sky_regenrated|  483059773|\n",
      "|  whisperandmoan|  113516042|\n",
      "|       SkullyRox|   20391647|\n",
      "+----------------+-----------+\n",
      "only showing top 5 rows\n",
      "\n"
     ]
    }
   ],
   "source": [
    "# Creating a view with this dataframe to use sparksql\n",
    "df.createOrReplaceTempView(\"df_view\")\n",
    "\n",
    "# Selecting the users_screen_name and user_id of those who have been active for more than 5 distinct days \n",
    "daily_active_users=spark.sql(\"select user_screen_name,user_id_str from df_view group by user_screen_name,user_id_str having count(distinct day_active) >=5\")\n",
    "\n",
    "print(\"Count of Users active on more than 5 days: \", daily_active_users.count())\n",
    "print()\n",
    "print(\"Displaying the top 5 rows of active user table: \")\n",
    "daily_active_users.show(5)"
   ]
  },
  {
   "cell_type": "code",
   "execution_count": 43,
   "metadata": {
    "id": "-yX_wNyqQLRK"
   },
   "outputs": [],
   "source": [
    "# Writing obtained df (active users) into csv file\n",
    "\n",
    "#daily_active_users.write.csv(\"daily_active_users\")\n",
    "\n",
    "daily_active_users.repartition(1).write.format(\"com.databricks.spark.csv\").option(\"header\", \"true\").save(\"daily_active_users.csv\") #to write as a single .csv file"
   ]
  },
  {
   "cell_type": "code",
   "execution_count": 39,
   "metadata": {
    "colab": {
     "base_uri": "https://localhost:8080/"
    },
    "id": "wE3i9pDSXKse",
    "outputId": "9ff746f2-ea67-4d2f-e560-502a13ad26dc"
   },
   "outputs": [
    {
     "name": "stdout",
     "output_type": "stream",
     "text": [
      "+----------+\n",
      "|       _c0|\n",
      "+----------+\n",
      "| 143515471|\n",
      "|  85741735|\n",
      "|  71457972|\n",
      "|2908108256|\n",
      "| 106799492|\n",
      "+----------+\n",
      "only showing top 5 rows\n",
      "\n"
     ]
    }
   ],
   "source": [
    "#############################################################################################################\n",
    "# STEP 2 :  WORKING WITH THE EXPERIMENT.TXT FILE\n",
    "############################################################################################################\n",
    "\n",
    "#Reading the experiment file\n",
    "df2=spark.read.option(\"header\",\"false\").csv(\"experiment.txt\")\n",
    "df2.show(5)"
   ]
  },
  {
   "cell_type": "code",
   "execution_count": 41,
   "metadata": {
    "id": "076We_gYc_2u"
   },
   "outputs": [],
   "source": [
    "# Creating views for dataframes to use sparksql\n",
    "df2.createOrReplaceTempView(\"exp_users\")\n",
    "daily_active_users.createOrReplaceTempView('active_users')"
   ]
  },
  {
   "cell_type": "code",
   "execution_count": 65,
   "metadata": {
    "id": "yBjoBLX0dwup"
   },
   "outputs": [],
   "source": [
    "# Creating 'experiment_user' table by using left join, if and isnull statement\n",
    "experiment_user = spark.sql('select _c0 as user_id_str, if(isnull(au.user_screen_name),\"No\",\"Yes\") as whether_active from exp_users eu left join active_users au on eu._c0 = au.user_id_str')"
   ]
  },
  {
   "cell_type": "code",
   "execution_count": 66,
   "metadata": {
    "colab": {
     "base_uri": "https://localhost:8080/"
    },
    "id": "oCZ8CMDMdwwh",
    "outputId": "d88f2f64-a545-4144-a23c-07d012d32e09"
   },
   "outputs": [
    {
     "name": "stdout",
     "output_type": "stream",
     "text": [
      "+-----------+--------------+\n",
      "|user_id_str|whether_active|\n",
      "+-----------+--------------+\n",
      "|   11798342|            No|\n",
      "| 1210875679|            No|\n",
      "|  128257538|            No|\n",
      "|  137088213|            No|\n",
      "|  142202059|            No|\n",
      "|   14291504|            No|\n",
      "|   16279527|            No|\n",
      "|  163148814|            No|\n",
      "|   20110100|            No|\n",
      "|  211972025|            No|\n",
      "| 2176836186|            No|\n",
      "|  234641258|            No|\n",
      "| 2372082613|            No|\n",
      "|   26915435|            No|\n",
      "|   27840175|            No|\n",
      "|  301131509|            No|\n",
      "| 3028486809|            No|\n",
      "|  305743837|            No|\n",
      "| 3196213653|            No|\n",
      "|  348844543|            No|\n",
      "+-----------+--------------+\n",
      "only showing top 20 rows\n",
      "\n"
     ]
    }
   ],
   "source": [
    "experiment_user.show()"
   ]
  },
  {
   "cell_type": "code",
   "execution_count": 67,
   "metadata": {
    "colab": {
     "base_uri": "https://localhost:8080/"
    },
    "id": "qAShULMpdwz8",
    "outputId": "815f71e1-77ff-4b02-8441-cf0bbe627666"
   },
   "outputs": [
    {
     "name": "stdout",
     "output_type": "stream",
     "text": [
      "+--------------------------+\n",
      "|percentage_of_active_users|\n",
      "+--------------------------+\n",
      "|                      2.42|\n",
      "+--------------------------+\n",
      "\n"
     ]
    }
   ],
   "source": [
    "# Calculating percentage of active users in the experiment_user table\n",
    "experiment_user.createOrReplaceTempView(\"exp_user\")\n",
    "spark.sql(\"select sum(if(whether_active=='Yes',1,0))/count(*)*100 as percentage_of_active_users from exp_user\").show()"
   ]
  },
  {
   "cell_type": "code",
   "execution_count": 71,
   "metadata": {
    "id": "WEG9ihMdlmPC"
   },
   "outputs": [],
   "source": [
    "experiment_user.repartition(1).write.format(\"com.databricks.spark.csv\").option(\"header\", \"true\").save(\"experiment_users.csv\") #to write as a single .csv file"
   ]
  },
  {
   "cell_type": "code",
   "execution_count": 77,
   "metadata": {
    "id": "kaRjuBf8qHpq"
   },
   "outputs": [],
   "source": [
    "#########################################################################################################################\n",
    "# STEP 3 : FINAL EXPERIMENT\n",
    "#########################################################################################################################\n",
    "\n",
    "# Reading the final_experiment.csv file\n",
    "df3=spark.read.option(\"header\",\"True\").csv(\"final_experiment.csv\")"
   ]
  },
  {
   "cell_type": "code",
   "execution_count": 79,
   "metadata": {
    "colab": {
     "base_uri": "https://localhost:8080/"
    },
    "id": "HLK1DZ8grhe3",
    "outputId": "7f2ae306-4895-4056-a194-cd3d946e0d48"
   },
   "outputs": [
    {
     "name": "stdout",
     "output_type": "stream",
     "text": [
      "Count of rows: 4500\n",
      "Disaplaying final_experiment dataframe:\n",
      "+-----------+----+--------------+----------------+\n",
      "|user_id_str|info|whether_active|user_screen_name|\n",
      "+-----------+----+--------------+----------------+\n",
      "|   62364020|   F|          null|            null|\n",
      "| 2706101936|   M|          null|            null|\n",
      "|    5654472|   F|          null|            null|\n",
      "|  145579921|   F|          null|            null|\n",
      "| 2502172122|   M|          null|            null|\n",
      "|  243716471|   F|          null|            null|\n",
      "| 2610379644|   M|          null|            null|\n",
      "|  123138418|   M|          null|            null|\n",
      "|  257376764|   F|          null|            null|\n",
      "|  269145593|   M|          null|            null|\n",
      "|  370711133|   F|          null|            null|\n",
      "| 1510968974|   F|          null|            null|\n",
      "| 3526380922|   M|          null|            null|\n",
      "|  163413904|   F|          null|            null|\n",
      "|   16980347|   M|          null|            null|\n",
      "| 1209614366|   M|          null|            null|\n",
      "|  447433286|   F|          null|            null|\n",
      "| 1970607968|   M|          null|            null|\n",
      "| 3285473358|   F|          null|            null|\n",
      "| 1112166661|   F|          null|            null|\n",
      "+-----------+----+--------------+----------------+\n",
      "only showing top 20 rows\n",
      "\n"
     ]
    }
   ],
   "source": [
    "print(\"Count of rows:\",df3.count())\n",
    "print(\"Disaplaying final_experiment dataframe:\")\n",
    "df3.show()"
   ]
  },
  {
   "cell_type": "code",
   "execution_count": 81,
   "metadata": {
    "id": "PRAqWt2Kri7D"
   },
   "outputs": [],
   "source": [
    "# creating view of this dataframe to work on using sparksql\n",
    "df3.createOrReplaceTempView('final_exp')"
   ]
  },
  {
   "cell_type": "code",
   "execution_count": 111,
   "metadata": {
    "id": "GPw70PiJsIXQ"
   },
   "outputs": [],
   "source": [
    "final_experiment = spark.sql('select distinct f.user_id_str, info, ifnull(e.whether_active,\"NOT FOUND\") as whether_active, ifnull(d.user_screen_name,\"NOT FOUND\") as user_screen_name from final_exp f left join exp_user e on f.user_id_str = e.user_id_str left join df_view d on e.user_id_str = d.user_id_str ')\n",
    "\n",
    "# Joining Steps:\n",
    "# 1) First we do a left join on final_experiment with experiment_user (for 'whether_active fiel)\n",
    "# 2) Then we perform another left join on the resulting dataframe with df_view (the dataframe with 'tweet_created_at' column) for user_screen_name field\n",
    "# 3) Now since there are multiple dates for a single user, the reulting df will have multiple rows for same user so we use 'DISTINCT' while selecting user_id"
   ]
  },
  {
   "cell_type": "code",
   "execution_count": 116,
   "metadata": {
    "colab": {
     "base_uri": "https://localhost:8080/"
    },
    "id": "S7l8zsufs9Fi",
    "outputId": "51ed8c53-39a5-438d-8bd3-4815591ef1b4"
   },
   "outputs": [
    {
     "name": "stdout",
     "output_type": "stream",
     "text": [
      "+-----------+----+--------------+----------------+\n",
      "|user_id_str|info|whether_active|user_screen_name|\n",
      "+-----------+----+--------------+----------------+\n",
      "|  103958741|   F|            No|     ThunderPhat|\n",
      "| 2234018858|   F|            No|      mirafianti|\n",
      "| 1873374613|   M|            No|         DRayG86|\n",
      "|  361176156|   F|            No|  PhilBradshaw07|\n",
      "|  843798637|   M|            No|          Jimzo_|\n",
      "|7.03795E+17|   M|     NOT FOUND|       NOT FOUND|\n",
      "| 7.9107E+17|   M|     NOT FOUND|       NOT FOUND|\n",
      "| 7.7112E+17|   F|     NOT FOUND|       NOT FOUND|\n",
      "|  255430770|   F|            No|         willytm|\n",
      "|  195814998|   M|            No|       Aprilcox_|\n",
      "| 2614781971|   M|            No|   joannednguyen|\n",
      "|  873296534|   M|            No| fabulousflossie|\n",
      "|   27732663|   M|            No|        Vstokes_|\n",
      "| 3380629378|   M|            No|      ssoleima92|\n",
      "|  813912673|   M|            No| philaeagles2000|\n",
      "| 3018271286|   F|            No|  GlueNotGlitter|\n",
      "|  457415010|   M|            No|          Syfaro|\n",
      "|  801653160|   M|            No|     sarakespohl|\n",
      "|  555190281|   M|            No|   joshfilmmaker|\n",
      "|   39217139|   F|            No|    NullPointerz|\n",
      "+-----------+----+--------------+----------------+\n",
      "only showing top 20 rows\n",
      "\n"
     ]
    }
   ],
   "source": [
    "# Displaying final dataframe with User ID, info, active, name\n",
    "final_experiment.show()"
   ]
  },
  {
   "cell_type": "code",
   "execution_count": 115,
   "metadata": {
    "colab": {
     "base_uri": "https://localhost:8080/"
    },
    "id": "XmLFGIT7s-gt",
    "outputId": "5491d4f0-c210-42a6-f1bf-8d0abee7fb07"
   },
   "outputs": [
    {
     "name": "stdout",
     "output_type": "stream",
     "text": [
      "No. of records: 4501\n"
     ]
    }
   ],
   "source": [
    "# Displaying total no. of records in final_experiment\n",
    "print(\"No. of records:\", final_experiment.count())"
   ]
  },
  {
   "cell_type": "code",
   "execution_count": 117,
   "metadata": {
    "id": "OXcG_d9Y0gps"
   },
   "outputs": [],
   "source": [
    "# The reason the count is 4501 instead of 4500 is because of user_id: 68279679 !\n",
    "# This particular user has 2 unique screen_name ('ColdKERNAL' and 'tazryder'), hence the final_experiment dataframe has 2 records for this one user."
   ]
  },
  {
   "cell_type": "code",
   "execution_count": 114,
   "metadata": {
    "id": "L_flw2UftVR1"
   },
   "outputs": [],
   "source": [
    "final_experiment.repartition(1).write.format(\"com.databricks.spark.csv\").option(\"header\", \"true\").save(\"final_experiments.csv\") # writting to .csv"
   ]
  }
 ],
 "metadata": {
  "colab": {
   "collapsed_sections": [],
   "provenance": []
  },
  "kernelspec": {
   "display_name": "Python 3 (ipykernel)",
   "language": "python",
   "name": "python3"
  },
  "language_info": {
   "codemirror_mode": {
    "name": "ipython",
    "version": 3
   },
   "file_extension": ".py",
   "mimetype": "text/x-python",
   "name": "python",
   "nbconvert_exporter": "python",
   "pygments_lexer": "ipython3",
   "version": "3.9.7"
  }
 },
 "nbformat": 4,
 "nbformat_minor": 1
}
