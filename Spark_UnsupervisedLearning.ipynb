{
  "nbformat": 4,
  "nbformat_minor": 0,
  "metadata": {
    "colab": {
      "provenance": []
    },
    "kernelspec": {
      "name": "python3",
      "display_name": "Python 3"
    },
    "language_info": {
      "name": "python"
    }
  },
  "cells": [
    {
      "cell_type": "markdown",
      "source": [
        "### Option 2 : K-means\n",
        "#### Iris Dataset\n",
        "The Iris data set consists of 50 samples from each of three species of Iris (Iris setosa, Iris virginica and Iris versicolor). Four features were measured from each sample: the length and the width of the sepals and petals, in centimeters. \n",
        "Download here: https://archive.ics.uci.edu/ml/datasets/iris\n",
        "\n",
        "##### To Do\n",
        "1.\tImport the Iris dataset.\n",
        "2.\tBuild a K-means model to classify the species of Iris. You can choose a k value randomly at this step.\n",
        "3.\tReport the original performance using Silhouette score. \n",
        "4.\tTry to improve the performance of the original model by trying at least 10 different k values.\n",
        "5.\tSelect the best k based on step 4 and print out the following sentence in your code:\n",
        "“k=xx gives the best performance, Silhouette =xx \"\n",
        "(replace xx with your own numbers)"
      ],
      "metadata": {
        "id": "OKsMdWEIBu1M"
      }
    },
    {
      "cell_type": "code",
      "source": [
        "#Mounting Google Drive for access to directories on Drive\n",
        "from google.colab import drive\n",
        "drive.mount('/content/drive')"
      ],
      "metadata": {
        "colab": {
          "base_uri": "https://localhost:8080/",
          "height": 0
        },
        "id": "grKdcMzNBy-l",
        "outputId": "da7325f4-6e50-44e5-cc13-45bb18095e35"
      },
      "execution_count": 1,
      "outputs": [
        {
          "output_type": "stream",
          "name": "stdout",
          "text": [
            "Mounted at /content/drive\n"
          ]
        }
      ]
    },
    {
      "cell_type": "code",
      "source": [
        "%cd /content/drive/MyDrive/Spark"
      ],
      "metadata": {
        "colab": {
          "base_uri": "https://localhost:8080/",
          "height": 0
        },
        "id": "TS69PuHwB57U",
        "outputId": "0312f173-f804-4670-dbb4-60314feda916"
      },
      "execution_count": 2,
      "outputs": [
        {
          "output_type": "stream",
          "name": "stdout",
          "text": [
            "/content/drive/MyDrive/Spark\n"
          ]
        }
      ]
    },
    {
      "cell_type": "code",
      "source": [
        "!apt-get install openjdk-8-jdk-headless -qq > /dev/null"
      ],
      "metadata": {
        "id": "VAJY0BU-CXHd"
      },
      "execution_count": 3,
      "outputs": []
    },
    {
      "cell_type": "code",
      "source": [
        "!wget -q https://archive.apache.org/dist/spark/spark-3.0.0/spark-3.0.0-bin-hadoop3.2.tgz"
      ],
      "metadata": {
        "id": "R7IFxDhHCXhg"
      },
      "execution_count": 4,
      "outputs": []
    },
    {
      "cell_type": "code",
      "source": [
        "!tar xf spark-3.0.0-bin-hadoop3.2.tgz"
      ],
      "metadata": {
        "id": "UM9LmC7gCZa3"
      },
      "execution_count": 5,
      "outputs": []
    },
    {
      "cell_type": "code",
      "source": [
        "!pip install findspark"
      ],
      "metadata": {
        "colab": {
          "base_uri": "https://localhost:8080/",
          "height": 0
        },
        "id": "eT-s00yVCa2p",
        "outputId": "07fe9bb8-50d8-4287-e504-1e2389fc1b62"
      },
      "execution_count": 6,
      "outputs": [
        {
          "output_type": "stream",
          "name": "stdout",
          "text": [
            "Looking in indexes: https://pypi.org/simple, https://us-python.pkg.dev/colab-wheels/public/simple/\n",
            "Collecting findspark\n",
            "  Downloading findspark-2.0.1-py2.py3-none-any.whl (4.4 kB)\n",
            "Installing collected packages: findspark\n",
            "Successfully installed findspark-2.0.1\n"
          ]
        }
      ]
    },
    {
      "cell_type": "code",
      "source": [
        "import os\n",
        "os.environ[\"JAVA_HOME\"] = \"/usr/lib/jvm/java-8-openjdk-amd64\"\n",
        "os.environ[\"SPARK_HOME\"] = \"/content/drive/MyDrive/Spark/spark-3.0.0-bin-hadoop3.2\""
      ],
      "metadata": {
        "id": "KnxA2kQSCcIY"
      },
      "execution_count": 7,
      "outputs": []
    },
    {
      "cell_type": "code",
      "source": [
        "import findspark\n",
        "findspark.init()"
      ],
      "metadata": {
        "id": "YaUuTp6PCki3"
      },
      "execution_count": 8,
      "outputs": []
    },
    {
      "cell_type": "code",
      "source": [
        "from pyspark.sql import *\n",
        "spark = SparkSession.builder.getOrCreate()"
      ],
      "metadata": {
        "id": "niRKYAliCoaN"
      },
      "execution_count": 9,
      "outputs": []
    },
    {
      "cell_type": "code",
      "source": [
        "spark = SparkSession.builder \\\n",
        "    .master(\"local\") \\\n",
        "    .appName(\"Word Count\") \\\n",
        "    .config(\"spark.some.config.option\", \"some-value\") \\\n",
        "    .getOrCreate()"
      ],
      "metadata": {
        "id": "Rg10DPZzCxhB"
      },
      "execution_count": 12,
      "outputs": []
    },
    {
      "cell_type": "markdown",
      "source": [
        "### 1. Importing Iris Dataset"
      ],
      "metadata": {
        "id": "-bqJFHaoCzud"
      }
    },
    {
      "cell_type": "code",
      "source": [
        "#Importing needeed libraries\n",
        "import pandas as pd\n",
        "import pyspark\n",
        "from pyspark import SparkContext, SQLContext\n",
        "from pyspark.ml.feature import VectorAssembler\n",
        "from pyspark.ml.clustering import KMeans\n",
        "from pyspark.ml.evaluation import ClusteringEvaluator\n",
        "import csv\n",
        "\n",
        "from sklearn.datasets import load_iris"
      ],
      "metadata": {
        "id": "sQB5Sl4_Cxx9"
      },
      "execution_count": 29,
      "outputs": []
    },
    {
      "cell_type": "code",
      "source": [
        "#Load Iris Dataset\n",
        "iris = load_iris(as_frame=True)\n",
        "iris"
      ],
      "metadata": {
        "colab": {
          "base_uri": "https://localhost:8080/",
          "height": 0
        },
        "id": "Y5esQLSYGaIV",
        "outputId": "72805377-7e09-49e5-b543-107202c49098"
      },
      "execution_count": 18,
      "outputs": [
        {
          "output_type": "execute_result",
          "data": {
            "text/plain": [
              "{'data':      sepal length (cm)  sepal width (cm)  petal length (cm)  petal width (cm)\n",
              " 0                  5.1               3.5                1.4               0.2\n",
              " 1                  4.9               3.0                1.4               0.2\n",
              " 2                  4.7               3.2                1.3               0.2\n",
              " 3                  4.6               3.1                1.5               0.2\n",
              " 4                  5.0               3.6                1.4               0.2\n",
              " ..                 ...               ...                ...               ...\n",
              " 145                6.7               3.0                5.2               2.3\n",
              " 146                6.3               2.5                5.0               1.9\n",
              " 147                6.5               3.0                5.2               2.0\n",
              " 148                6.2               3.4                5.4               2.3\n",
              " 149                5.9               3.0                5.1               1.8\n",
              " \n",
              " [150 rows x 4 columns], 'target': 0      0\n",
              " 1      0\n",
              " 2      0\n",
              " 3      0\n",
              " 4      0\n",
              "       ..\n",
              " 145    2\n",
              " 146    2\n",
              " 147    2\n",
              " 148    2\n",
              " 149    2\n",
              " Name: target, Length: 150, dtype: int64, 'frame':      sepal length (cm)  sepal width (cm)  petal length (cm)  petal width (cm)  \\\n",
              " 0                  5.1               3.5                1.4               0.2   \n",
              " 1                  4.9               3.0                1.4               0.2   \n",
              " 2                  4.7               3.2                1.3               0.2   \n",
              " 3                  4.6               3.1                1.5               0.2   \n",
              " 4                  5.0               3.6                1.4               0.2   \n",
              " ..                 ...               ...                ...               ...   \n",
              " 145                6.7               3.0                5.2               2.3   \n",
              " 146                6.3               2.5                5.0               1.9   \n",
              " 147                6.5               3.0                5.2               2.0   \n",
              " 148                6.2               3.4                5.4               2.3   \n",
              " 149                5.9               3.0                5.1               1.8   \n",
              " \n",
              "      target  \n",
              " 0         0  \n",
              " 1         0  \n",
              " 2         0  \n",
              " 3         0  \n",
              " 4         0  \n",
              " ..      ...  \n",
              " 145       2  \n",
              " 146       2  \n",
              " 147       2  \n",
              " 148       2  \n",
              " 149       2  \n",
              " \n",
              " [150 rows x 5 columns], 'target_names': array(['setosa', 'versicolor', 'virginica'], dtype='<U10'), 'DESCR': '.. _iris_dataset:\\n\\nIris plants dataset\\n--------------------\\n\\n**Data Set Characteristics:**\\n\\n    :Number of Instances: 150 (50 in each of three classes)\\n    :Number of Attributes: 4 numeric, predictive attributes and the class\\n    :Attribute Information:\\n        - sepal length in cm\\n        - sepal width in cm\\n        - petal length in cm\\n        - petal width in cm\\n        - class:\\n                - Iris-Setosa\\n                - Iris-Versicolour\\n                - Iris-Virginica\\n                \\n    :Summary Statistics:\\n\\n    ============== ==== ==== ======= ===== ====================\\n                    Min  Max   Mean    SD   Class Correlation\\n    ============== ==== ==== ======= ===== ====================\\n    sepal length:   4.3  7.9   5.84   0.83    0.7826\\n    sepal width:    2.0  4.4   3.05   0.43   -0.4194\\n    petal length:   1.0  6.9   3.76   1.76    0.9490  (high!)\\n    petal width:    0.1  2.5   1.20   0.76    0.9565  (high!)\\n    ============== ==== ==== ======= ===== ====================\\n\\n    :Missing Attribute Values: None\\n    :Class Distribution: 33.3% for each of 3 classes.\\n    :Creator: R.A. Fisher\\n    :Donor: Michael Marshall (MARSHALL%PLU@io.arc.nasa.gov)\\n    :Date: July, 1988\\n\\nThe famous Iris database, first used by Sir R.A. Fisher. The dataset is taken\\nfrom Fisher\\'s paper. Note that it\\'s the same as in R, but not as in the UCI\\nMachine Learning Repository, which has two wrong data points.\\n\\nThis is perhaps the best known database to be found in the\\npattern recognition literature.  Fisher\\'s paper is a classic in the field and\\nis referenced frequently to this day.  (See Duda & Hart, for example.)  The\\ndata set contains 3 classes of 50 instances each, where each class refers to a\\ntype of iris plant.  One class is linearly separable from the other 2; the\\nlatter are NOT linearly separable from each other.\\n\\n.. topic:: References\\n\\n   - Fisher, R.A. \"The use of multiple measurements in taxonomic problems\"\\n     Annual Eugenics, 7, Part II, 179-188 (1936); also in \"Contributions to\\n     Mathematical Statistics\" (John Wiley, NY, 1950).\\n   - Duda, R.O., & Hart, P.E. (1973) Pattern Classification and Scene Analysis.\\n     (Q327.D83) John Wiley & Sons.  ISBN 0-471-22361-1.  See page 218.\\n   - Dasarathy, B.V. (1980) \"Nosing Around the Neighborhood: A New System\\n     Structure and Classification Rule for Recognition in Partially Exposed\\n     Environments\".  IEEE Transactions on Pattern Analysis and Machine\\n     Intelligence, Vol. PAMI-2, No. 1, 67-71.\\n   - Gates, G.W. (1972) \"The Reduced Nearest Neighbor Rule\".  IEEE Transactions\\n     on Information Theory, May 1972, 431-433.\\n   - See also: 1988 MLC Proceedings, 54-64.  Cheeseman et al\"s AUTOCLASS II\\n     conceptual clustering system finds 3 classes in the data.\\n   - Many, many more ...', 'feature_names': ['sepal length (cm)',\n",
              "  'sepal width (cm)',\n",
              "  'petal length (cm)',\n",
              "  'petal width (cm)'], 'filename': 'iris.csv', 'data_module': 'sklearn.datasets.data'}"
            ]
          },
          "metadata": {},
          "execution_count": 18
        }
      ]
    },
    {
      "cell_type": "code",
      "source": [
        "#Converting to Pandas Dataframe\n",
        "iris_df = pd.DataFrame(iris.data, columns = iris.feature_names)\n",
        "#iris_df['target'] = pd.Series(df_iris.target)"
      ],
      "metadata": {
        "id": "MhSxYFIUGcBO"
      },
      "execution_count": 19,
      "outputs": []
    },
    {
      "cell_type": "code",
      "source": [
        "iris_df"
      ],
      "metadata": {
        "colab": {
          "base_uri": "https://localhost:8080/",
          "height": 424
        },
        "id": "dJMN9nUAG4yf",
        "outputId": "c2b3720c-0990-4490-e384-e8dfc0b7f427"
      },
      "execution_count": 20,
      "outputs": [
        {
          "output_type": "execute_result",
          "data": {
            "text/plain": [
              "     sepal length (cm)  sepal width (cm)  petal length (cm)  petal width (cm)\n",
              "0                  5.1               3.5                1.4               0.2\n",
              "1                  4.9               3.0                1.4               0.2\n",
              "2                  4.7               3.2                1.3               0.2\n",
              "3                  4.6               3.1                1.5               0.2\n",
              "4                  5.0               3.6                1.4               0.2\n",
              "..                 ...               ...                ...               ...\n",
              "145                6.7               3.0                5.2               2.3\n",
              "146                6.3               2.5                5.0               1.9\n",
              "147                6.5               3.0                5.2               2.0\n",
              "148                6.2               3.4                5.4               2.3\n",
              "149                5.9               3.0                5.1               1.8\n",
              "\n",
              "[150 rows x 4 columns]"
            ],
            "text/html": [
              "\n",
              "  <div id=\"df-9e84c9bf-d6d6-46d2-9d97-aa32ff9b19b6\">\n",
              "    <div class=\"colab-df-container\">\n",
              "      <div>\n",
              "<style scoped>\n",
              "    .dataframe tbody tr th:only-of-type {\n",
              "        vertical-align: middle;\n",
              "    }\n",
              "\n",
              "    .dataframe tbody tr th {\n",
              "        vertical-align: top;\n",
              "    }\n",
              "\n",
              "    .dataframe thead th {\n",
              "        text-align: right;\n",
              "    }\n",
              "</style>\n",
              "<table border=\"1\" class=\"dataframe\">\n",
              "  <thead>\n",
              "    <tr style=\"text-align: right;\">\n",
              "      <th></th>\n",
              "      <th>sepal length (cm)</th>\n",
              "      <th>sepal width (cm)</th>\n",
              "      <th>petal length (cm)</th>\n",
              "      <th>petal width (cm)</th>\n",
              "    </tr>\n",
              "  </thead>\n",
              "  <tbody>\n",
              "    <tr>\n",
              "      <th>0</th>\n",
              "      <td>5.1</td>\n",
              "      <td>3.5</td>\n",
              "      <td>1.4</td>\n",
              "      <td>0.2</td>\n",
              "    </tr>\n",
              "    <tr>\n",
              "      <th>1</th>\n",
              "      <td>4.9</td>\n",
              "      <td>3.0</td>\n",
              "      <td>1.4</td>\n",
              "      <td>0.2</td>\n",
              "    </tr>\n",
              "    <tr>\n",
              "      <th>2</th>\n",
              "      <td>4.7</td>\n",
              "      <td>3.2</td>\n",
              "      <td>1.3</td>\n",
              "      <td>0.2</td>\n",
              "    </tr>\n",
              "    <tr>\n",
              "      <th>3</th>\n",
              "      <td>4.6</td>\n",
              "      <td>3.1</td>\n",
              "      <td>1.5</td>\n",
              "      <td>0.2</td>\n",
              "    </tr>\n",
              "    <tr>\n",
              "      <th>4</th>\n",
              "      <td>5.0</td>\n",
              "      <td>3.6</td>\n",
              "      <td>1.4</td>\n",
              "      <td>0.2</td>\n",
              "    </tr>\n",
              "    <tr>\n",
              "      <th>...</th>\n",
              "      <td>...</td>\n",
              "      <td>...</td>\n",
              "      <td>...</td>\n",
              "      <td>...</td>\n",
              "    </tr>\n",
              "    <tr>\n",
              "      <th>145</th>\n",
              "      <td>6.7</td>\n",
              "      <td>3.0</td>\n",
              "      <td>5.2</td>\n",
              "      <td>2.3</td>\n",
              "    </tr>\n",
              "    <tr>\n",
              "      <th>146</th>\n",
              "      <td>6.3</td>\n",
              "      <td>2.5</td>\n",
              "      <td>5.0</td>\n",
              "      <td>1.9</td>\n",
              "    </tr>\n",
              "    <tr>\n",
              "      <th>147</th>\n",
              "      <td>6.5</td>\n",
              "      <td>3.0</td>\n",
              "      <td>5.2</td>\n",
              "      <td>2.0</td>\n",
              "    </tr>\n",
              "    <tr>\n",
              "      <th>148</th>\n",
              "      <td>6.2</td>\n",
              "      <td>3.4</td>\n",
              "      <td>5.4</td>\n",
              "      <td>2.3</td>\n",
              "    </tr>\n",
              "    <tr>\n",
              "      <th>149</th>\n",
              "      <td>5.9</td>\n",
              "      <td>3.0</td>\n",
              "      <td>5.1</td>\n",
              "      <td>1.8</td>\n",
              "    </tr>\n",
              "  </tbody>\n",
              "</table>\n",
              "<p>150 rows × 4 columns</p>\n",
              "</div>\n",
              "      <button class=\"colab-df-convert\" onclick=\"convertToInteractive('df-9e84c9bf-d6d6-46d2-9d97-aa32ff9b19b6')\"\n",
              "              title=\"Convert this dataframe to an interactive table.\"\n",
              "              style=\"display:none;\">\n",
              "        \n",
              "  <svg xmlns=\"http://www.w3.org/2000/svg\" height=\"24px\"viewBox=\"0 0 24 24\"\n",
              "       width=\"24px\">\n",
              "    <path d=\"M0 0h24v24H0V0z\" fill=\"none\"/>\n",
              "    <path d=\"M18.56 5.44l.94 2.06.94-2.06 2.06-.94-2.06-.94-.94-2.06-.94 2.06-2.06.94zm-11 1L8.5 8.5l.94-2.06 2.06-.94-2.06-.94L8.5 2.5l-.94 2.06-2.06.94zm10 10l.94 2.06.94-2.06 2.06-.94-2.06-.94-.94-2.06-.94 2.06-2.06.94z\"/><path d=\"M17.41 7.96l-1.37-1.37c-.4-.4-.92-.59-1.43-.59-.52 0-1.04.2-1.43.59L10.3 9.45l-7.72 7.72c-.78.78-.78 2.05 0 2.83L4 21.41c.39.39.9.59 1.41.59.51 0 1.02-.2 1.41-.59l7.78-7.78 2.81-2.81c.8-.78.8-2.07 0-2.86zM5.41 20L4 18.59l7.72-7.72 1.47 1.35L5.41 20z\"/>\n",
              "  </svg>\n",
              "      </button>\n",
              "      \n",
              "  <style>\n",
              "    .colab-df-container {\n",
              "      display:flex;\n",
              "      flex-wrap:wrap;\n",
              "      gap: 12px;\n",
              "    }\n",
              "\n",
              "    .colab-df-convert {\n",
              "      background-color: #E8F0FE;\n",
              "      border: none;\n",
              "      border-radius: 50%;\n",
              "      cursor: pointer;\n",
              "      display: none;\n",
              "      fill: #1967D2;\n",
              "      height: 32px;\n",
              "      padding: 0 0 0 0;\n",
              "      width: 32px;\n",
              "    }\n",
              "\n",
              "    .colab-df-convert:hover {\n",
              "      background-color: #E2EBFA;\n",
              "      box-shadow: 0px 1px 2px rgba(60, 64, 67, 0.3), 0px 1px 3px 1px rgba(60, 64, 67, 0.15);\n",
              "      fill: #174EA6;\n",
              "    }\n",
              "\n",
              "    [theme=dark] .colab-df-convert {\n",
              "      background-color: #3B4455;\n",
              "      fill: #D2E3FC;\n",
              "    }\n",
              "\n",
              "    [theme=dark] .colab-df-convert:hover {\n",
              "      background-color: #434B5C;\n",
              "      box-shadow: 0px 1px 3px 1px rgba(0, 0, 0, 0.15);\n",
              "      filter: drop-shadow(0px 1px 2px rgba(0, 0, 0, 0.3));\n",
              "      fill: #FFFFFF;\n",
              "    }\n",
              "  </style>\n",
              "\n",
              "      <script>\n",
              "        const buttonEl =\n",
              "          document.querySelector('#df-9e84c9bf-d6d6-46d2-9d97-aa32ff9b19b6 button.colab-df-convert');\n",
              "        buttonEl.style.display =\n",
              "          google.colab.kernel.accessAllowed ? 'block' : 'none';\n",
              "\n",
              "        async function convertToInteractive(key) {\n",
              "          const element = document.querySelector('#df-9e84c9bf-d6d6-46d2-9d97-aa32ff9b19b6');\n",
              "          const dataTable =\n",
              "            await google.colab.kernel.invokeFunction('convertToInteractive',\n",
              "                                                     [key], {});\n",
              "          if (!dataTable) return;\n",
              "\n",
              "          const docLinkHtml = 'Like what you see? Visit the ' +\n",
              "            '<a target=\"_blank\" href=https://colab.research.google.com/notebooks/data_table.ipynb>data table notebook</a>'\n",
              "            + ' to learn more about interactive tables.';\n",
              "          element.innerHTML = '';\n",
              "          dataTable['output_type'] = 'display_data';\n",
              "          await google.colab.output.renderOutput(dataTable, element);\n",
              "          const docLink = document.createElement('div');\n",
              "          docLink.innerHTML = docLinkHtml;\n",
              "          element.appendChild(docLink);\n",
              "        }\n",
              "      </script>\n",
              "    </div>\n",
              "  </div>\n",
              "  "
            ]
          },
          "metadata": {},
          "execution_count": 20
        }
      ]
    },
    {
      "cell_type": "code",
      "source": [
        "# We can see above dataframe doesn't contain the target/class details, hence adding it temporarily (however we'll wont need target for clustering model)\n",
        "iris_df['target'] = pd.Series(iris.target)"
      ],
      "metadata": {
        "id": "oFjcL5wqHCL1"
      },
      "execution_count": 21,
      "outputs": []
    },
    {
      "cell_type": "code",
      "source": [
        "iris_df"
      ],
      "metadata": {
        "colab": {
          "base_uri": "https://localhost:8080/",
          "height": 424
        },
        "id": "tAiYBN2aHC1n",
        "outputId": "44ffc1c2-f976-496f-f1b4-5b227080b7a1"
      },
      "execution_count": 24,
      "outputs": [
        {
          "output_type": "execute_result",
          "data": {
            "text/plain": [
              "     sepal length (cm)  sepal width (cm)  petal length (cm)  petal width (cm)  \\\n",
              "0                  5.1               3.5                1.4               0.2   \n",
              "1                  4.9               3.0                1.4               0.2   \n",
              "2                  4.7               3.2                1.3               0.2   \n",
              "3                  4.6               3.1                1.5               0.2   \n",
              "4                  5.0               3.6                1.4               0.2   \n",
              "..                 ...               ...                ...               ...   \n",
              "145                6.7               3.0                5.2               2.3   \n",
              "146                6.3               2.5                5.0               1.9   \n",
              "147                6.5               3.0                5.2               2.0   \n",
              "148                6.2               3.4                5.4               2.3   \n",
              "149                5.9               3.0                5.1               1.8   \n",
              "\n",
              "     target  \n",
              "0         0  \n",
              "1         0  \n",
              "2         0  \n",
              "3         0  \n",
              "4         0  \n",
              "..      ...  \n",
              "145       2  \n",
              "146       2  \n",
              "147       2  \n",
              "148       2  \n",
              "149       2  \n",
              "\n",
              "[150 rows x 5 columns]"
            ],
            "text/html": [
              "\n",
              "  <div id=\"df-2b9ca8ad-4645-4563-9ebe-a1d34fbb8174\">\n",
              "    <div class=\"colab-df-container\">\n",
              "      <div>\n",
              "<style scoped>\n",
              "    .dataframe tbody tr th:only-of-type {\n",
              "        vertical-align: middle;\n",
              "    }\n",
              "\n",
              "    .dataframe tbody tr th {\n",
              "        vertical-align: top;\n",
              "    }\n",
              "\n",
              "    .dataframe thead th {\n",
              "        text-align: right;\n",
              "    }\n",
              "</style>\n",
              "<table border=\"1\" class=\"dataframe\">\n",
              "  <thead>\n",
              "    <tr style=\"text-align: right;\">\n",
              "      <th></th>\n",
              "      <th>sepal length (cm)</th>\n",
              "      <th>sepal width (cm)</th>\n",
              "      <th>petal length (cm)</th>\n",
              "      <th>petal width (cm)</th>\n",
              "      <th>target</th>\n",
              "    </tr>\n",
              "  </thead>\n",
              "  <tbody>\n",
              "    <tr>\n",
              "      <th>0</th>\n",
              "      <td>5.1</td>\n",
              "      <td>3.5</td>\n",
              "      <td>1.4</td>\n",
              "      <td>0.2</td>\n",
              "      <td>0</td>\n",
              "    </tr>\n",
              "    <tr>\n",
              "      <th>1</th>\n",
              "      <td>4.9</td>\n",
              "      <td>3.0</td>\n",
              "      <td>1.4</td>\n",
              "      <td>0.2</td>\n",
              "      <td>0</td>\n",
              "    </tr>\n",
              "    <tr>\n",
              "      <th>2</th>\n",
              "      <td>4.7</td>\n",
              "      <td>3.2</td>\n",
              "      <td>1.3</td>\n",
              "      <td>0.2</td>\n",
              "      <td>0</td>\n",
              "    </tr>\n",
              "    <tr>\n",
              "      <th>3</th>\n",
              "      <td>4.6</td>\n",
              "      <td>3.1</td>\n",
              "      <td>1.5</td>\n",
              "      <td>0.2</td>\n",
              "      <td>0</td>\n",
              "    </tr>\n",
              "    <tr>\n",
              "      <th>4</th>\n",
              "      <td>5.0</td>\n",
              "      <td>3.6</td>\n",
              "      <td>1.4</td>\n",
              "      <td>0.2</td>\n",
              "      <td>0</td>\n",
              "    </tr>\n",
              "    <tr>\n",
              "      <th>...</th>\n",
              "      <td>...</td>\n",
              "      <td>...</td>\n",
              "      <td>...</td>\n",
              "      <td>...</td>\n",
              "      <td>...</td>\n",
              "    </tr>\n",
              "    <tr>\n",
              "      <th>145</th>\n",
              "      <td>6.7</td>\n",
              "      <td>3.0</td>\n",
              "      <td>5.2</td>\n",
              "      <td>2.3</td>\n",
              "      <td>2</td>\n",
              "    </tr>\n",
              "    <tr>\n",
              "      <th>146</th>\n",
              "      <td>6.3</td>\n",
              "      <td>2.5</td>\n",
              "      <td>5.0</td>\n",
              "      <td>1.9</td>\n",
              "      <td>2</td>\n",
              "    </tr>\n",
              "    <tr>\n",
              "      <th>147</th>\n",
              "      <td>6.5</td>\n",
              "      <td>3.0</td>\n",
              "      <td>5.2</td>\n",
              "      <td>2.0</td>\n",
              "      <td>2</td>\n",
              "    </tr>\n",
              "    <tr>\n",
              "      <th>148</th>\n",
              "      <td>6.2</td>\n",
              "      <td>3.4</td>\n",
              "      <td>5.4</td>\n",
              "      <td>2.3</td>\n",
              "      <td>2</td>\n",
              "    </tr>\n",
              "    <tr>\n",
              "      <th>149</th>\n",
              "      <td>5.9</td>\n",
              "      <td>3.0</td>\n",
              "      <td>5.1</td>\n",
              "      <td>1.8</td>\n",
              "      <td>2</td>\n",
              "    </tr>\n",
              "  </tbody>\n",
              "</table>\n",
              "<p>150 rows × 5 columns</p>\n",
              "</div>\n",
              "      <button class=\"colab-df-convert\" onclick=\"convertToInteractive('df-2b9ca8ad-4645-4563-9ebe-a1d34fbb8174')\"\n",
              "              title=\"Convert this dataframe to an interactive table.\"\n",
              "              style=\"display:none;\">\n",
              "        \n",
              "  <svg xmlns=\"http://www.w3.org/2000/svg\" height=\"24px\"viewBox=\"0 0 24 24\"\n",
              "       width=\"24px\">\n",
              "    <path d=\"M0 0h24v24H0V0z\" fill=\"none\"/>\n",
              "    <path d=\"M18.56 5.44l.94 2.06.94-2.06 2.06-.94-2.06-.94-.94-2.06-.94 2.06-2.06.94zm-11 1L8.5 8.5l.94-2.06 2.06-.94-2.06-.94L8.5 2.5l-.94 2.06-2.06.94zm10 10l.94 2.06.94-2.06 2.06-.94-2.06-.94-.94-2.06-.94 2.06-2.06.94z\"/><path d=\"M17.41 7.96l-1.37-1.37c-.4-.4-.92-.59-1.43-.59-.52 0-1.04.2-1.43.59L10.3 9.45l-7.72 7.72c-.78.78-.78 2.05 0 2.83L4 21.41c.39.39.9.59 1.41.59.51 0 1.02-.2 1.41-.59l7.78-7.78 2.81-2.81c.8-.78.8-2.07 0-2.86zM5.41 20L4 18.59l7.72-7.72 1.47 1.35L5.41 20z\"/>\n",
              "  </svg>\n",
              "      </button>\n",
              "      \n",
              "  <style>\n",
              "    .colab-df-container {\n",
              "      display:flex;\n",
              "      flex-wrap:wrap;\n",
              "      gap: 12px;\n",
              "    }\n",
              "\n",
              "    .colab-df-convert {\n",
              "      background-color: #E8F0FE;\n",
              "      border: none;\n",
              "      border-radius: 50%;\n",
              "      cursor: pointer;\n",
              "      display: none;\n",
              "      fill: #1967D2;\n",
              "      height: 32px;\n",
              "      padding: 0 0 0 0;\n",
              "      width: 32px;\n",
              "    }\n",
              "\n",
              "    .colab-df-convert:hover {\n",
              "      background-color: #E2EBFA;\n",
              "      box-shadow: 0px 1px 2px rgba(60, 64, 67, 0.3), 0px 1px 3px 1px rgba(60, 64, 67, 0.15);\n",
              "      fill: #174EA6;\n",
              "    }\n",
              "\n",
              "    [theme=dark] .colab-df-convert {\n",
              "      background-color: #3B4455;\n",
              "      fill: #D2E3FC;\n",
              "    }\n",
              "\n",
              "    [theme=dark] .colab-df-convert:hover {\n",
              "      background-color: #434B5C;\n",
              "      box-shadow: 0px 1px 3px 1px rgba(0, 0, 0, 0.15);\n",
              "      filter: drop-shadow(0px 1px 2px rgba(0, 0, 0, 0.3));\n",
              "      fill: #FFFFFF;\n",
              "    }\n",
              "  </style>\n",
              "\n",
              "      <script>\n",
              "        const buttonEl =\n",
              "          document.querySelector('#df-2b9ca8ad-4645-4563-9ebe-a1d34fbb8174 button.colab-df-convert');\n",
              "        buttonEl.style.display =\n",
              "          google.colab.kernel.accessAllowed ? 'block' : 'none';\n",
              "\n",
              "        async function convertToInteractive(key) {\n",
              "          const element = document.querySelector('#df-2b9ca8ad-4645-4563-9ebe-a1d34fbb8174');\n",
              "          const dataTable =\n",
              "            await google.colab.kernel.invokeFunction('convertToInteractive',\n",
              "                                                     [key], {});\n",
              "          if (!dataTable) return;\n",
              "\n",
              "          const docLinkHtml = 'Like what you see? Visit the ' +\n",
              "            '<a target=\"_blank\" href=https://colab.research.google.com/notebooks/data_table.ipynb>data table notebook</a>'\n",
              "            + ' to learn more about interactive tables.';\n",
              "          element.innerHTML = '';\n",
              "          dataTable['output_type'] = 'display_data';\n",
              "          await google.colab.output.renderOutput(dataTable, element);\n",
              "          const docLink = document.createElement('div');\n",
              "          docLink.innerHTML = docLinkHtml;\n",
              "          element.appendChild(docLink);\n",
              "        }\n",
              "      </script>\n",
              "    </div>\n",
              "  </div>\n",
              "  "
            ]
          },
          "metadata": {},
          "execution_count": 24
        }
      ]
    },
    {
      "cell_type": "code",
      "source": [
        "# Now we'll convert the above dataframe to spark dataframe and drop the target column since we won't need it for modelling\n",
        "iris_dfs = spark.createDataFrame(iris_df)\n",
        "iris_dfs = iris_dfs.drop(\"target\")\n",
        "iris_dfs.show()"
      ],
      "metadata": {
        "colab": {
          "base_uri": "https://localhost:8080/",
          "height": 0
        },
        "id": "w_jkPUSaGe_M",
        "outputId": "d0b5a06e-5bd9-46f5-dd0b-d7ab238545cf"
      },
      "execution_count": 26,
      "outputs": [
        {
          "output_type": "stream",
          "name": "stdout",
          "text": [
            "+-----------------+----------------+-----------------+----------------+\n",
            "|sepal length (cm)|sepal width (cm)|petal length (cm)|petal width (cm)|\n",
            "+-----------------+----------------+-----------------+----------------+\n",
            "|              5.1|             3.5|              1.4|             0.2|\n",
            "|              4.9|             3.0|              1.4|             0.2|\n",
            "|              4.7|             3.2|              1.3|             0.2|\n",
            "|              4.6|             3.1|              1.5|             0.2|\n",
            "|              5.0|             3.6|              1.4|             0.2|\n",
            "|              5.4|             3.9|              1.7|             0.4|\n",
            "|              4.6|             3.4|              1.4|             0.3|\n",
            "|              5.0|             3.4|              1.5|             0.2|\n",
            "|              4.4|             2.9|              1.4|             0.2|\n",
            "|              4.9|             3.1|              1.5|             0.1|\n",
            "|              5.4|             3.7|              1.5|             0.2|\n",
            "|              4.8|             3.4|              1.6|             0.2|\n",
            "|              4.8|             3.0|              1.4|             0.1|\n",
            "|              4.3|             3.0|              1.1|             0.1|\n",
            "|              5.8|             4.0|              1.2|             0.2|\n",
            "|              5.7|             4.4|              1.5|             0.4|\n",
            "|              5.4|             3.9|              1.3|             0.4|\n",
            "|              5.1|             3.5|              1.4|             0.3|\n",
            "|              5.7|             3.8|              1.7|             0.3|\n",
            "|              5.1|             3.8|              1.5|             0.3|\n",
            "+-----------------+----------------+-----------------+----------------+\n",
            "only showing top 20 rows\n",
            "\n"
          ]
        }
      ]
    },
    {
      "cell_type": "markdown",
      "source": [
        "### 2.\tBuild a K-means model to classify the species of Iris. You can choose a k value randomly at this step"
      ],
      "metadata": {
        "id": "4L8jRjheH4wr"
      }
    },
    {
      "cell_type": "code",
      "source": [
        "#Now, creating a vector assembler to prepare for medelling.\n",
        "vec = VectorAssembler(inputCols=['sepal length (cm)','sepal width (cm)','petal length (cm)','petal width (cm)'], outputCol = 'iris_vectors') #generates a vector output column with the given inputcols \n",
        "asmbl_df=vec.transform(iris_dfs) \n",
        "asmbl_df.show()"
      ],
      "metadata": {
        "colab": {
          "base_uri": "https://localhost:8080/",
          "height": 0
        },
        "id": "PTHiPnAtGhVu",
        "outputId": "cd1c1c4e-f6d3-47bb-aca2-ad5502b05883"
      },
      "execution_count": 30,
      "outputs": [
        {
          "output_type": "stream",
          "name": "stdout",
          "text": [
            "+-----------------+----------------+-----------------+----------------+-----------------+\n",
            "|sepal length (cm)|sepal width (cm)|petal length (cm)|petal width (cm)|     iris_vectors|\n",
            "+-----------------+----------------+-----------------+----------------+-----------------+\n",
            "|              5.1|             3.5|              1.4|             0.2|[5.1,3.5,1.4,0.2]|\n",
            "|              4.9|             3.0|              1.4|             0.2|[4.9,3.0,1.4,0.2]|\n",
            "|              4.7|             3.2|              1.3|             0.2|[4.7,3.2,1.3,0.2]|\n",
            "|              4.6|             3.1|              1.5|             0.2|[4.6,3.1,1.5,0.2]|\n",
            "|              5.0|             3.6|              1.4|             0.2|[5.0,3.6,1.4,0.2]|\n",
            "|              5.4|             3.9|              1.7|             0.4|[5.4,3.9,1.7,0.4]|\n",
            "|              4.6|             3.4|              1.4|             0.3|[4.6,3.4,1.4,0.3]|\n",
            "|              5.0|             3.4|              1.5|             0.2|[5.0,3.4,1.5,0.2]|\n",
            "|              4.4|             2.9|              1.4|             0.2|[4.4,2.9,1.4,0.2]|\n",
            "|              4.9|             3.1|              1.5|             0.1|[4.9,3.1,1.5,0.1]|\n",
            "|              5.4|             3.7|              1.5|             0.2|[5.4,3.7,1.5,0.2]|\n",
            "|              4.8|             3.4|              1.6|             0.2|[4.8,3.4,1.6,0.2]|\n",
            "|              4.8|             3.0|              1.4|             0.1|[4.8,3.0,1.4,0.1]|\n",
            "|              4.3|             3.0|              1.1|             0.1|[4.3,3.0,1.1,0.1]|\n",
            "|              5.8|             4.0|              1.2|             0.2|[5.8,4.0,1.2,0.2]|\n",
            "|              5.7|             4.4|              1.5|             0.4|[5.7,4.4,1.5,0.4]|\n",
            "|              5.4|             3.9|              1.3|             0.4|[5.4,3.9,1.3,0.4]|\n",
            "|              5.1|             3.5|              1.4|             0.3|[5.1,3.5,1.4,0.3]|\n",
            "|              5.7|             3.8|              1.7|             0.3|[5.7,3.8,1.7,0.3]|\n",
            "|              5.1|             3.8|              1.5|             0.3|[5.1,3.8,1.5,0.3]|\n",
            "+-----------------+----------------+-----------------+----------------+-----------------+\n",
            "only showing top 20 rows\n",
            "\n"
          ]
        }
      ]
    },
    {
      "cell_type": "code",
      "source": [
        "# Fitting a k-means model (k=3) #since we already know there are 3 species (setosa, virginica and versicolor)\n",
        "k_means = KMeans(featuresCol='iris_vectors', k=3) \n",
        "k_model=k_means.fit(asmbl_df)\n",
        "\n",
        "# Predicting and displaying clusters \n",
        "kmeans_pred=k_model.transform(asmbl_df)\n",
        "kmeans_pred.show()"
      ],
      "metadata": {
        "colab": {
          "base_uri": "https://localhost:8080/",
          "height": 0
        },
        "id": "9XjAiWGgJPHQ",
        "outputId": "1a96a3ef-03ed-4b75-e2a7-3c8acc893144"
      },
      "execution_count": 35,
      "outputs": [
        {
          "output_type": "stream",
          "name": "stdout",
          "text": [
            "+-----------------+----------------+-----------------+----------------+-----------------+----------+\n",
            "|sepal length (cm)|sepal width (cm)|petal length (cm)|petal width (cm)|     iris_vectors|prediction|\n",
            "+-----------------+----------------+-----------------+----------------+-----------------+----------+\n",
            "|              5.1|             3.5|              1.4|             0.2|[5.1,3.5,1.4,0.2]|         0|\n",
            "|              4.9|             3.0|              1.4|             0.2|[4.9,3.0,1.4,0.2]|         0|\n",
            "|              4.7|             3.2|              1.3|             0.2|[4.7,3.2,1.3,0.2]|         0|\n",
            "|              4.6|             3.1|              1.5|             0.2|[4.6,3.1,1.5,0.2]|         0|\n",
            "|              5.0|             3.6|              1.4|             0.2|[5.0,3.6,1.4,0.2]|         0|\n",
            "|              5.4|             3.9|              1.7|             0.4|[5.4,3.9,1.7,0.4]|         0|\n",
            "|              4.6|             3.4|              1.4|             0.3|[4.6,3.4,1.4,0.3]|         0|\n",
            "|              5.0|             3.4|              1.5|             0.2|[5.0,3.4,1.5,0.2]|         0|\n",
            "|              4.4|             2.9|              1.4|             0.2|[4.4,2.9,1.4,0.2]|         0|\n",
            "|              4.9|             3.1|              1.5|             0.1|[4.9,3.1,1.5,0.1]|         0|\n",
            "|              5.4|             3.7|              1.5|             0.2|[5.4,3.7,1.5,0.2]|         0|\n",
            "|              4.8|             3.4|              1.6|             0.2|[4.8,3.4,1.6,0.2]|         0|\n",
            "|              4.8|             3.0|              1.4|             0.1|[4.8,3.0,1.4,0.1]|         0|\n",
            "|              4.3|             3.0|              1.1|             0.1|[4.3,3.0,1.1,0.1]|         0|\n",
            "|              5.8|             4.0|              1.2|             0.2|[5.8,4.0,1.2,0.2]|         0|\n",
            "|              5.7|             4.4|              1.5|             0.4|[5.7,4.4,1.5,0.4]|         0|\n",
            "|              5.4|             3.9|              1.3|             0.4|[5.4,3.9,1.3,0.4]|         0|\n",
            "|              5.1|             3.5|              1.4|             0.3|[5.1,3.5,1.4,0.3]|         0|\n",
            "|              5.7|             3.8|              1.7|             0.3|[5.7,3.8,1.7,0.3]|         0|\n",
            "|              5.1|             3.8|              1.5|             0.3|[5.1,3.8,1.5,0.3]|         0|\n",
            "+-----------------+----------------+-----------------+----------------+-----------------+----------+\n",
            "only showing top 20 rows\n",
            "\n"
          ]
        }
      ]
    },
    {
      "cell_type": "markdown",
      "source": [
        "### 3. Report the original performance using Silhouette score. "
      ],
      "metadata": {
        "id": "LqcxsmPKKrQK"
      }
    },
    {
      "cell_type": "code",
      "source": [
        "# Using Silhouette score to evaluate clusters\n",
        "evaluator = ClusteringEvaluator(featuresCol='iris_vectors')\n",
        "\n",
        "s_score = evaluator.evaluate(kmeans_pred)\n",
        "print(\"Silhouette Score of (k=3) is :\" + str(s_score))"
      ],
      "metadata": {
        "colab": {
          "base_uri": "https://localhost:8080/",
          "height": 0
        },
        "id": "yoEfnRghKD00",
        "outputId": "eaf05f7f-8a80-4cd6-ec30-a373af538996"
      },
      "execution_count": 39,
      "outputs": [
        {
          "output_type": "stream",
          "name": "stdout",
          "text": [
            "Silhouette Score of (k=3) is :0.7344130579787836\n"
          ]
        }
      ]
    },
    {
      "cell_type": "markdown",
      "source": [
        "### 4.\tTry to improve the performance of the original model by trying at least 10 different k values."
      ],
      "metadata": {
        "id": "LWovbhePLj1D"
      }
    },
    {
      "cell_type": "code",
      "source": [
        "max_s_score = 0\n",
        "best_k = 0 \n",
        "\n",
        "for k in range(2,12):\n",
        "    # Fitting model for different k values\n",
        "    k_means = KMeans(featuresCol='iris_vectors', k=k)\n",
        "    k_model = k_means.fit(asmbl_df)\n",
        "    k_pred = k_model.transform(asmbl_df) \n",
        "\n",
        "    # Getting the silhouette score to evaluate clusters\n",
        "    s_score = evaluator.evaluate(k_pred)\n",
        "    print(\"For (k=\"+ str(k) + \"), the obtained Silhouette Score is :\" + str(s_score))\n",
        "\n",
        "    # storing the k and s_score for max score (best k and sil score)\n",
        "    if s_score > max_s_score:\n",
        "      max_s_score = s_score\n",
        "      best_k = k"
      ],
      "metadata": {
        "colab": {
          "base_uri": "https://localhost:8080/",
          "height": 0
        },
        "id": "-pIjBjtcKQsn",
        "outputId": "0dc24107-70fd-40d4-ab0e-433be3fade64"
      },
      "execution_count": 40,
      "outputs": [
        {
          "output_type": "stream",
          "name": "stdout",
          "text": [
            "For (k=2), the obtained Silhouette Score is :0.8503512229251465\n",
            "For (k=3), the obtained Silhouette Score is :0.7344130579787836\n",
            "For (k=4), the obtained Silhouette Score is :0.678799860932182\n",
            "For (k=5), the obtained Silhouette Score is :0.671113643229135\n",
            "For (k=6), the obtained Silhouette Score is :0.5063045990351738\n",
            "For (k=7), the obtained Silhouette Score is :0.5250277068566052\n",
            "For (k=8), the obtained Silhouette Score is :0.5831358542277786\n",
            "For (k=9), the obtained Silhouette Score is :0.5569456705842679\n",
            "For (k=10), the obtained Silhouette Score is :0.4682938429532273\n",
            "For (k=11), the obtained Silhouette Score is :0.48612183879529974\n"
          ]
        }
      ]
    },
    {
      "cell_type": "markdown",
      "source": [
        "### 5.\tSelect the best k based on step 4 and print out the following sentence in your code: “k=xx gives the best performance, Silhouette =xx \" (replace xx with your own numbers)\n"
      ],
      "metadata": {
        "id": "3OmInNF8Ng-G"
      }
    },
    {
      "cell_type": "code",
      "source": [
        "# we have stored our best k value in 'best_k' and the respective silhouette score in 'max_s_score'\n",
        "print(\"k=\"+ str(best_k) + \" gives the best performance, Silhouette = \"+ str(max_s_score))"
      ],
      "metadata": {
        "colab": {
          "base_uri": "https://localhost:8080/",
          "height": 0
        },
        "id": "azY4R1BmM9tD",
        "outputId": "b5fffc94-9a50-4836-9ab7-2bc53cb51e9a"
      },
      "execution_count": 41,
      "outputs": [
        {
          "output_type": "stream",
          "name": "stdout",
          "text": [
            "k=2 gives the best performance, Silhouette = 0.8503512229251465\n"
          ]
        }
      ]
    },
    {
      "cell_type": "markdown",
      "source": [
        "### Additional analysis on silhouette score and plot\n"
      ],
      "metadata": {
        "id": "Tp8KtShXN6ND"
      }
    },
    {
      "cell_type": "code",
      "source": [
        "from sklearn import datasets\n",
        "from sklearn.cluster import KMeans\n",
        "from sklearn import metrics\n",
        "import matplotlib.pyplot as plt\n",
        "from yellowbrick.cluster import SilhouetteVisualizer\n",
        "\n",
        "iris = datasets.load_iris()\n",
        "X = iris.data\n",
        "y = iris.target\n",
        "  \n",
        "for i in [2, 3, 4, 5]:\n",
        "\n",
        "    km = KMeans(n_clusters=i)\n",
        "    kmodel = km.fit(X)\n",
        "    score = metrics.silhouette_score(X, kmodel.labels_, metric='euclidean')\n",
        "    print(\"For (k=\",i,\") the silhouette score is :\",score)\n",
        "    print(\"Silhouette Plot:\")\n",
        "    visualizer = SilhouetteVisualizer(km)\n",
        "    visualizer.fit(X) \n",
        "    plt.show()"
      ],
      "metadata": {
        "colab": {
          "base_uri": "https://localhost:8080/",
          "height": 1476
        },
        "id": "WrPG1uFPN4Mo",
        "outputId": "6977ac2b-4fd4-4273-bfe8-12793ee0f588"
      },
      "execution_count": 66,
      "outputs": [
        {
          "output_type": "stream",
          "name": "stdout",
          "text": [
            "For (k= 2 ) the silhouette score is : 0.6810461692117462\n",
            "Silhouette Plot:\n"
          ]
        },
        {
          "output_type": "display_data",
          "data": {
            "text/plain": [
              "<Figure size 576x396 with 1 Axes>"
            ],
            "image/png": "[encoded data removed]"
          },
          "metadata": {}
        },
        {
          "output_type": "stream",
          "name": "stdout",
          "text": [
            "For (k= 3 ) the silhouette score is : 0.5528190123564095\n",
            "Silhouette Plot:\n"
          ]
        },
        {
          "output_type": "display_data",
          "data": {
            "text/plain": [
              "<Figure size 576x396 with 1 Axes>"
            ],
            "image/png": "[encoded data removed]"
          },
          "metadata": {}
        },
        {
          "output_type": "stream",
          "name": "stdout",
          "text": [
            "For (k= 4 ) the silhouette score is : 0.49805050499728737\n",
            "Silhouette Plot:\n"
          ]
        },
        {
          "output_type": "display_data",
          "data": {
            "text/plain": [
              "<Figure size 576x396 with 1 Axes>"
            ],
            "image/png": "[encoded data removed]"
          },
          "metadata": {}
        },
        {
          "output_type": "stream",
          "name": "stdout",
          "text": [
            "For (k= 5 ) the silhouette score is : 0.48874888709310566\n",
            "Silhouette Plot:\n"
          ]
        },
        {
          "output_type": "display_data",
          "data": {
            "text/plain": [
              "<Figure size 576x396 with 1 Axes>"
            ],
            "image/png": "[encoded data removed]"
          },
          "metadata": {}
        }
      ]
    },
    {
      "cell_type": "markdown",
      "source": [
        "Even though k=2 gives the highest Silhouette score, we can see that the thickness of the 2 clusters are not uniform.\n",
        "Hence, even though k=3 has a slightly lower score, it seems like a much better 'k' value for clustering."
      ],
      "metadata": {
        "id": "OcfNM7b2RRnG"
      }
    }
  ]
}